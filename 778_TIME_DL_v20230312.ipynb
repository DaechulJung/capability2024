{
 "cells": [
  {
   "cell_type": "markdown",
   "id": "03472fc8",
   "metadata": {},
   "source": [
    "# 딥러닝 알고리즘\n",
    "- 각 인풋과 연결되는 뉴런에서 가중치 계산 + bias\n",
    "- 인공신경망에서는 교차 검증보다는 검증 세트를 이용한다. -> 데이터가 크기 때문에 검증 점수가 안정적이고, 교차 검증 사용하게 되면 시간이 오래 걸리기 때문\n",
    "- 분류문제는 마지막 층에 활성화 함수 사용, 회귀는 출력이 임의의 숫자이므로 미사용(activation에 미지정)\n",
    "- hitory에 모델 학습 정보가 있다\n",
    "- 콜백을 통해 훈련 과정 중간에 어떤 작업을 수행할 수 있게 하며, fit할 때 매개변수로 전달한다. 콜백 종류는 ModelCheckpoint를 통해 에포크(또는 최상만)별로 모델저장, early stopping 등을 할 수 있다\n",
    "\n",
    "**하이퍼파리미터**\n",
    "\n",
    "|Title|Param|Value|Default|Note|\n",
    "|--|--|--|--|--|\n",
    "|손실함수|loss|'binary_categorical_crossentropy', 'sparse_categorical_crossentropy','categorical_crossentropy','mean_square_error' 등| None |y값 one-hot 안해도 된다(sparse사용)|\n",
    "|배치|batch|number | 32 |fit할 때 batch size 조정가능|\n",
    "|활성함수|activation|relu, sigmoid, softmax 등| None |각 층에|\n",
    "|optimizer|optimizer|Adagard, RMSprop, Adam 등| RMSprop |가중치 및 절편을 학습하기 위한 방법|\n",
    "|학습률|learning_rate|0.xxx ~ 1| 0.001(대부분의 optimizer에서) |학습률|\n",
    "|verbose|verbose|0,1,2,3| 1 |학습과정을 보여준다|\n",
    "|최적 weight 저장|restore_best_weights|true, false|-|학습에서 최상의 값을 저장한다|\n",
    "\n",
    "\n",
    "\n",
    "*기술*\n",
    "- Flatten 층 : 입력값을 1차원으로 하기 위한 층으로써, reshape, ravel과 같은 효과\n",
    "- Dropout 층 : 과대적합 방지를 위해 설정하며, 비율 등에 따라 학습 때 비활성화 하게 한다\n",
    "**Sample 규격**\n",
    "``` \n",
    "model = keras.Sequential() # model 생성\n",
    "model.add(keras.layers.Dense(1000, activation='relu', input_shape=(784,))) # input 값과 밀집층 뉴런 숫자\n",
    "model.add(keras.layers.Dense(10, activation='softmax')) # 층을 추가 할 수 있다\n",
    "model.compile(optimizer=opt, loss='sparse_categorical_crossentropy', metrics='accuracy') # optimizer등 입력\n",
    "model.fit(X_train, y_train, epochs = 5, validation_data = (X_test, y_test)) # epochs 및 validation 값등 option 가능\n",
    "```"
   ]
  },
  {
   "cell_type": "markdown",
   "id": "4d087c93",
   "metadata": {},
   "source": [
    "# MLP \n",
    "- d"
   ]
  },
  {
   "cell_type": "code",
   "execution_count": 4,
   "id": "60b43772",
   "metadata": {},
   "outputs": [],
   "source": [
    "import tensorflow as tf\n",
    "from tensorflow import keras\n",
    "import matplotlib.pyplot as plt\n",
    "from sklearn.ensemble import RandomForestClassifier\n",
    "import seaborn as sns\n",
    "\n",
    "from sklearn.tree import export_graphviz"
   ]
  },
  {
   "cell_type": "code",
   "execution_count": 5,
   "id": "09ac383b",
   "metadata": {},
   "outputs": [],
   "source": [
    "mnist = keras.datasets.mnist.load_data()"
   ]
  },
  {
   "cell_type": "code",
   "execution_count": 3,
   "id": "f7cf9d8e",
   "metadata": {},
   "outputs": [],
   "source": [
    "(train_input, train_target), (test_input, test_target) = mnist"
   ]
  },
  {
   "cell_type": "code",
   "execution_count": 4,
   "id": "3bd403ca",
   "metadata": {},
   "outputs": [
    {
     "data": {
      "text/plain": [
       "(60000, 28, 28)"
      ]
     },
     "execution_count": 4,
     "metadata": {},
     "output_type": "execute_result"
    }
   ],
   "source": [
    "train_input.shape"
   ]
  },
  {
   "cell_type": "code",
   "execution_count": 5,
   "id": "0a58f876",
   "metadata": {},
   "outputs": [],
   "source": [
    "train_input_reshape = train_input.reshape(-1, 28 * 28)\n",
    "test_input_reshape = test_input.reshape(-1, 28 * 28)"
   ]
  },
  {
   "cell_type": "code",
   "execution_count": 6,
   "id": "a7252cbb",
   "metadata": {},
   "outputs": [],
   "source": [
    "train_input_scaled = train_input_reshape / 255.\n",
    "test_input_scaled = test_input_reshape / 255."
   ]
  },
  {
   "cell_type": "code",
   "execution_count": 7,
   "id": "d6344b2e",
   "metadata": {},
   "outputs": [],
   "source": [
    "rf = RandomForestClassifier()"
   ]
  },
  {
   "cell_type": "code",
   "execution_count": 8,
   "id": "1b1b3f67",
   "metadata": {},
   "outputs": [
    {
     "data": {
      "text/html": [
       "<style>#sk-container-id-1 {color: black;background-color: white;}#sk-container-id-1 pre{padding: 0;}#sk-container-id-1 div.sk-toggleable {background-color: white;}#sk-container-id-1 label.sk-toggleable__label {cursor: pointer;display: block;width: 100%;margin-bottom: 0;padding: 0.3em;box-sizing: border-box;text-align: center;}#sk-container-id-1 label.sk-toggleable__label-arrow:before {content: \"▸\";float: left;margin-right: 0.25em;color: #696969;}#sk-container-id-1 label.sk-toggleable__label-arrow:hover:before {color: black;}#sk-container-id-1 div.sk-estimator:hover label.sk-toggleable__label-arrow:before {color: black;}#sk-container-id-1 div.sk-toggleable__content {max-height: 0;max-width: 0;overflow: hidden;text-align: left;background-color: #f0f8ff;}#sk-container-id-1 div.sk-toggleable__content pre {margin: 0.2em;color: black;border-radius: 0.25em;background-color: #f0f8ff;}#sk-container-id-1 input.sk-toggleable__control:checked~div.sk-toggleable__content {max-height: 200px;max-width: 100%;overflow: auto;}#sk-container-id-1 input.sk-toggleable__control:checked~label.sk-toggleable__label-arrow:before {content: \"▾\";}#sk-container-id-1 div.sk-estimator input.sk-toggleable__control:checked~label.sk-toggleable__label {background-color: #d4ebff;}#sk-container-id-1 div.sk-label input.sk-toggleable__control:checked~label.sk-toggleable__label {background-color: #d4ebff;}#sk-container-id-1 input.sk-hidden--visually {border: 0;clip: rect(1px 1px 1px 1px);clip: rect(1px, 1px, 1px, 1px);height: 1px;margin: -1px;overflow: hidden;padding: 0;position: absolute;width: 1px;}#sk-container-id-1 div.sk-estimator {font-family: monospace;background-color: #f0f8ff;border: 1px dotted black;border-radius: 0.25em;box-sizing: border-box;margin-bottom: 0.5em;}#sk-container-id-1 div.sk-estimator:hover {background-color: #d4ebff;}#sk-container-id-1 div.sk-parallel-item::after {content: \"\";width: 100%;border-bottom: 1px solid gray;flex-grow: 1;}#sk-container-id-1 div.sk-label:hover label.sk-toggleable__label {background-color: #d4ebff;}#sk-container-id-1 div.sk-serial::before {content: \"\";position: absolute;border-left: 1px solid gray;box-sizing: border-box;top: 0;bottom: 0;left: 50%;z-index: 0;}#sk-container-id-1 div.sk-serial {display: flex;flex-direction: column;align-items: center;background-color: white;padding-right: 0.2em;padding-left: 0.2em;position: relative;}#sk-container-id-1 div.sk-item {position: relative;z-index: 1;}#sk-container-id-1 div.sk-parallel {display: flex;align-items: stretch;justify-content: center;background-color: white;position: relative;}#sk-container-id-1 div.sk-item::before, #sk-container-id-1 div.sk-parallel-item::before {content: \"\";position: absolute;border-left: 1px solid gray;box-sizing: border-box;top: 0;bottom: 0;left: 50%;z-index: -1;}#sk-container-id-1 div.sk-parallel-item {display: flex;flex-direction: column;z-index: 1;position: relative;background-color: white;}#sk-container-id-1 div.sk-parallel-item:first-child::after {align-self: flex-end;width: 50%;}#sk-container-id-1 div.sk-parallel-item:last-child::after {align-self: flex-start;width: 50%;}#sk-container-id-1 div.sk-parallel-item:only-child::after {width: 0;}#sk-container-id-1 div.sk-dashed-wrapped {border: 1px dashed gray;margin: 0 0.4em 0.5em 0.4em;box-sizing: border-box;padding-bottom: 0.4em;background-color: white;}#sk-container-id-1 div.sk-label label {font-family: monospace;font-weight: bold;display: inline-block;line-height: 1.2em;}#sk-container-id-1 div.sk-label-container {text-align: center;}#sk-container-id-1 div.sk-container {/* jupyter's `normalize.less` sets `[hidden] { display: none; }` but bootstrap.min.css set `[hidden] { display: none !important; }` so we also need the `!important` here to be able to override the default hidden behavior on the sphinx rendered scikit-learn.org. See: https://github.com/scikit-learn/scikit-learn/issues/21755 */display: inline-block !important;position: relative;}#sk-container-id-1 div.sk-text-repr-fallback {display: none;}</style><div id=\"sk-container-id-1\" class=\"sk-top-container\"><div class=\"sk-text-repr-fallback\"><pre>RandomForestClassifier()</pre><b>In a Jupyter environment, please rerun this cell to show the HTML representation or trust the notebook. <br />On GitHub, the HTML representation is unable to render, please try loading this page with nbviewer.org.</b></div><div class=\"sk-container\" hidden><div class=\"sk-item\"><div class=\"sk-estimator sk-toggleable\"><input class=\"sk-toggleable__control sk-hidden--visually\" id=\"sk-estimator-id-1\" type=\"checkbox\" checked><label for=\"sk-estimator-id-1\" class=\"sk-toggleable__label sk-toggleable__label-arrow\">RandomForestClassifier</label><div class=\"sk-toggleable__content\"><pre>RandomForestClassifier()</pre></div></div></div></div></div>"
      ],
      "text/plain": [
       "RandomForestClassifier()"
      ]
     },
     "execution_count": 8,
     "metadata": {},
     "output_type": "execute_result"
    }
   ],
   "source": [
    "rf.fit(train_input_scaled, train_target)"
   ]
  },
  {
   "cell_type": "code",
   "execution_count": 9,
   "id": "a455b5e6",
   "metadata": {},
   "outputs": [
    {
     "data": {
      "text/plain": [
       "0.9709"
      ]
     },
     "execution_count": 9,
     "metadata": {},
     "output_type": "execute_result"
    }
   ],
   "source": [
    "rf.score(test_input_scaled, test_target)"
   ]
  },
  {
   "cell_type": "code",
   "execution_count": 10,
   "id": "8e042721",
   "metadata": {},
   "outputs": [
    {
     "data": {
      "text/plain": [
       "array([8], dtype=uint8)"
      ]
     },
     "execution_count": 10,
     "metadata": {},
     "output_type": "execute_result"
    }
   ],
   "source": [
    "rf.predict([train_input_reshape[17]])"
   ]
  },
  {
   "cell_type": "code",
   "execution_count": 11,
   "id": "35fc8d0d",
   "metadata": {},
   "outputs": [
    {
     "data": {
      "text/plain": [
       "<matplotlib.image.AxesImage at 0x7f91c1284430>"
      ]
     },
     "execution_count": 11,
     "metadata": {},
     "output_type": "execute_result"
    },
    {
     "data": {
      "image/png": "[encoded data removed]",
      "text/plain": [
       "<Figure size 640x480 with 1 Axes>"
      ]
     },
     "metadata": {},
     "output_type": "display_data"
    }
   ],
   "source": [
    "plt.imshow(train_input[17])"
   ]
  },
  {
   "cell_type": "code",
   "execution_count": null,
   "id": "05635ac2",
   "metadata": {},
   "outputs": [],
   "source": []
  },
  {
   "cell_type": "code",
   "execution_count": 12,
   "id": "e2d8687e",
   "metadata": {},
   "outputs": [],
   "source": [
    "import numpy as np"
   ]
  },
  {
   "cell_type": "code",
   "execution_count": 13,
   "id": "fba5a8a2",
   "metadata": {},
   "outputs": [
    {
     "data": {
      "text/plain": [
       "10"
      ]
     },
     "execution_count": 13,
     "metadata": {},
     "output_type": "execute_result"
    }
   ],
   "source": [
    "len(np.bincount(train_target))"
   ]
  },
  {
   "cell_type": "code",
   "execution_count": 14,
   "id": "60de03ca",
   "metadata": {},
   "outputs": [],
   "source": [
    "train_input_scaled = train_input / 255.\n",
    "test_input_scaled = test_input / 255."
   ]
  },
  {
   "cell_type": "code",
   "execution_count": 15,
   "id": "a682027d",
   "metadata": {},
   "outputs": [],
   "source": [
    "from sklearn.model_selection import train_test_split"
   ]
  },
  {
   "cell_type": "code",
   "execution_count": 16,
   "id": "78a4416b",
   "metadata": {},
   "outputs": [],
   "source": [
    "X_train, X_val, y_train, y_val =  train_test_split(train_input_scaled, train_target)"
   ]
  },
  {
   "cell_type": "code",
   "execution_count": 17,
   "id": "be8d921d",
   "metadata": {},
   "outputs": [],
   "source": [
    "checkpoint_cb = keras.callbacks.ModelCheckpoint('./model/best-model.h5', save_best_only=True)\n",
    "earlystop_cb = keras.callbacks.EarlyStopping(patience= 2, restore_best_weights=True)"
   ]
  },
  {
   "cell_type": "code",
   "execution_count": 18,
   "id": "c34f28ac",
   "metadata": {},
   "outputs": [
    {
     "name": "stdout",
     "output_type": "stream",
     "text": [
      "Metal device set to: AMD Radeon Pro 560X\n"
     ]
    },
    {
     "name": "stderr",
     "output_type": "stream",
     "text": [
      "2022-10-12 11:19:18.558855: I tensorflow/core/platform/cpu_feature_guard.cc:193] This TensorFlow binary is optimized with oneAPI Deep Neural Network Library (oneDNN) to use the following CPU instructions in performance-critical operations:  AVX2 FMA\n",
      "To enable them in other operations, rebuild TensorFlow with the appropriate compiler flags.\n",
      "2022-10-12 11:19:18.559376: I tensorflow/core/common_runtime/pluggable_device/pluggable_device_factory.cc:306] Could not identify NUMA node of platform GPU ID 0, defaulting to 0. Your kernel may not have been built with NUMA support.\n",
      "2022-10-12 11:19:18.559427: I tensorflow/core/platform/cpu_feature_guard.cc:193] This TensorFlow binary is optimized with oneAPI Deep Neural Network Library (oneDNN) to use the following CPU instructions in performance-critical operations:  AVX2 FMA\n",
      "To enable them in other operations, rebuild TensorFlow with the appropriate compiler flags.\n",
      "2022-10-12 11:19:18.559688: I tensorflow/core/common_runtime/pluggable_device/pluggable_device_factory.cc:272] Created TensorFlow device (/job:localhost/replica:0/task:0/device:GPU:0 with 0 MB memory) -> physical PluggableDevice (device: 0, name: METAL, pci bus id: <undefined>)\n"
     ]
    }
   ],
   "source": [
    "model =  keras.Sequential()\n",
    "\n",
    "# model.add(keras.layers.Dense(100, activation='sigmoid', input_shape=(784,)))\n",
    "model.add(keras.layers.Flatten(input_shape=(28,28)))\n",
    "model.add(keras.layers.Dense(100, activation='relu'))\n",
    "model.add(keras.layers.Dropout(0.3))\n",
    "# model.add(keras.layers.Dense(2000, activation='relu'))\n",
    "model.add(keras.layers.Dense(10, activation='softmax'))"
   ]
  },
  {
   "cell_type": "code",
   "execution_count": 19,
   "id": "cf3b83c5",
   "metadata": {},
   "outputs": [],
   "source": [
    "opt = keras.optimizers.Adagrad()"
   ]
  },
  {
   "cell_type": "code",
   "execution_count": 20,
   "id": "668fda71",
   "metadata": {},
   "outputs": [],
   "source": [
    "model.compile(optimizer='adam', loss='sparse_categorical_crossentropy', metrics='accuracy')"
   ]
  },
  {
   "cell_type": "code",
   "execution_count": 21,
   "id": "d350903f",
   "metadata": {},
   "outputs": [
    {
     "name": "stdout",
     "output_type": "stream",
     "text": [
      "Epoch 1/10\n"
     ]
    },
    {
     "name": "stderr",
     "output_type": "stream",
     "text": [
      "2022-10-12 11:19:19.340914: I tensorflow/core/grappler/optimizers/custom_graph_optimizer_registry.cc:114] Plugin optimizer for device_type GPU is enabled.\n"
     ]
    },
    {
     "name": "stdout",
     "output_type": "stream",
     "text": [
      "1407/1407 [==============================] - ETA: 0s - loss: 0.3593 - accuracy: 0.8967"
     ]
    },
    {
     "name": "stderr",
     "output_type": "stream",
     "text": [
      "2022-10-12 11:19:35.229106: I tensorflow/core/grappler/optimizers/custom_graph_optimizer_registry.cc:114] Plugin optimizer for device_type GPU is enabled.\n"
     ]
    },
    {
     "name": "stdout",
     "output_type": "stream",
     "text": [
      "1407/1407 [==============================] - 19s 13ms/step - loss: 0.3593 - accuracy: 0.8967 - val_loss: 0.1942 - val_accuracy: 0.9440\n",
      "Epoch 2/10\n",
      "1407/1407 [==============================] - 19s 14ms/step - loss: 0.1833 - accuracy: 0.9459 - val_loss: 0.1580 - val_accuracy: 0.9537\n",
      "Epoch 3/10\n",
      "1407/1407 [==============================] - 19s 14ms/step - loss: 0.1405 - accuracy: 0.9580 - val_loss: 0.1283 - val_accuracy: 0.9635\n",
      "Epoch 4/10\n",
      "1407/1407 [==============================] - 19s 13ms/step - loss: 0.1182 - accuracy: 0.9636 - val_loss: 0.1115 - val_accuracy: 0.9678\n",
      "Epoch 5/10\n",
      "1407/1407 [==============================] - 19s 13ms/step - loss: 0.1005 - accuracy: 0.9684 - val_loss: 0.1093 - val_accuracy: 0.9666\n",
      "Epoch 6/10\n",
      "1407/1407 [==============================] - 18s 13ms/step - loss: 0.0892 - accuracy: 0.9726 - val_loss: 0.0988 - val_accuracy: 0.9715\n",
      "Epoch 7/10\n",
      "1407/1407 [==============================] - 18s 13ms/step - loss: 0.0816 - accuracy: 0.9745 - val_loss: 0.0986 - val_accuracy: 0.9701\n",
      "Epoch 8/10\n",
      "1407/1407 [==============================] - 19s 14ms/step - loss: 0.0736 - accuracy: 0.9761 - val_loss: 0.0992 - val_accuracy: 0.9709\n",
      "Epoch 9/10\n",
      "1407/1407 [==============================] - 17s 12ms/step - loss: 0.0697 - accuracy: 0.9779 - val_loss: 0.0949 - val_accuracy: 0.9705\n",
      "Epoch 10/10\n",
      "1407/1407 [==============================] - 19s 13ms/step - loss: 0.0633 - accuracy: 0.9794 - val_loss: 0.0935 - val_accuracy: 0.9736\n"
     ]
    }
   ],
   "source": [
    "history = model.fit(X_train, y_train, epochs=10, validation_data= (X_val, y_val), \n",
    "                   callbacks=[checkpoint_cb, earlystop_cb])"
   ]
  },
  {
   "cell_type": "code",
   "execution_count": 22,
   "id": "20c523bf",
   "metadata": {},
   "outputs": [
    {
     "data": {
      "text/plain": [
       "0"
      ]
     },
     "execution_count": 22,
     "metadata": {},
     "output_type": "execute_result"
    }
   ],
   "source": [
    "earlystop_cb.stopped_epoch"
   ]
  },
  {
   "cell_type": "code",
   "execution_count": 23,
   "id": "6eb90d61",
   "metadata": {},
   "outputs": [
    {
     "name": "stdout",
     "output_type": "stream",
     "text": [
      "Model: \"sequential\"\n",
      "_________________________________________________________________\n",
      " Layer (type)                Output Shape              Param #   \n",
      "=================================================================\n",
      " flatten (Flatten)           (None, 784)               0         \n",
      "                                                                 \n",
      " dense (Dense)               (None, 100)               78500     \n",
      "                                                                 \n",
      " dropout (Dropout)           (None, 100)               0         \n",
      "                                                                 \n",
      " dense_1 (Dense)             (None, 10)                1010      \n",
      "                                                                 \n",
      "=================================================================\n",
      "Total params: 79,510\n",
      "Trainable params: 79,510\n",
      "Non-trainable params: 0\n",
      "_________________________________________________________________\n"
     ]
    }
   ],
   "source": [
    "model.summary()"
   ]
  },
  {
   "cell_type": "code",
   "execution_count": 24,
   "id": "0a8f956c",
   "metadata": {},
   "outputs": [
    {
     "data": {
      "text/plain": [
       "dict_keys(['loss', 'accuracy', 'val_loss', 'val_accuracy'])"
      ]
     },
     "execution_count": 24,
     "metadata": {},
     "output_type": "execute_result"
    }
   ],
   "source": [
    "history.history.keys()"
   ]
  },
  {
   "cell_type": "code",
   "execution_count": 25,
   "id": "670fa705",
   "metadata": {},
   "outputs": [
    {
     "data": {
      "text/plain": [
       "<matplotlib.legend.Legend at 0x7f91943690d0>"
      ]
     },
     "execution_count": 25,
     "metadata": {},
     "output_type": "execute_result"
    },
    {
     "data": {
      "image/png": "[encoded data removed]",
      "text/plain": [
       "<Figure size 1000x1000 with 2 Axes>"
      ]
     },
     "metadata": {},
     "output_type": "display_data"
    }
   ],
   "source": [
    "fig, axs = plt.subplots(2,1, figsize=(10,10))\n",
    "sns.lineplot(history.history['loss'], ax=axs[0])\n",
    "sns.lineplot(history.history['val_loss'], ax=axs[0])\n",
    "sns.lineplot(history.history['accuracy'], ax=axs[1])\n",
    "sns.lineplot(history.history['val_accuracy'], ax=axs[1])\n",
    "axs[0].legend(['train', 'val'])\n",
    "axs[1].legend(['train', 'val'])"
   ]
  },
  {
   "cell_type": "code",
   "execution_count": 26,
   "id": "3eb8ff7c",
   "metadata": {},
   "outputs": [
    {
     "name": "stdout",
     "output_type": "stream",
     "text": [
      " 15/313 [>.............................] - ETA: 2s - loss: 14.5471 - accuracy: 0.9792  "
     ]
    },
    {
     "name": "stderr",
     "output_type": "stream",
     "text": [
      "2022-10-12 11:22:26.528177: I tensorflow/core/grappler/optimizers/custom_graph_optimizer_registry.cc:114] Plugin optimizer for device_type GPU is enabled.\n"
     ]
    },
    {
     "name": "stdout",
     "output_type": "stream",
     "text": [
      "313/313 [==============================] - 3s 8ms/step - loss: 14.8648 - accuracy: 0.9740\n"
     ]
    },
    {
     "data": {
      "text/plain": [
       "[14.864779472351074, 0.9739999771118164]"
      ]
     },
     "execution_count": 26,
     "metadata": {},
     "output_type": "execute_result"
    }
   ],
   "source": [
    "model.evaluate(test_input, test_target)"
   ]
  },
  {
   "cell_type": "code",
   "execution_count": 27,
   "id": "bd0fd423",
   "metadata": {},
   "outputs": [
    {
     "name": "stdout",
     "output_type": "stream",
     "text": [
      "1/1 [==============================] - 0s 215ms/step\n"
     ]
    },
    {
     "name": "stderr",
     "output_type": "stream",
     "text": [
      "2022-10-12 11:22:29.380444: I tensorflow/core/grappler/optimizers/custom_graph_optimizer_registry.cc:114] Plugin optimizer for device_type GPU is enabled.\n"
     ]
    },
    {
     "data": {
      "text/plain": [
       "7"
      ]
     },
     "execution_count": 27,
     "metadata": {},
     "output_type": "execute_result"
    }
   ],
   "source": [
    "np.argmax(model.predict(test_input_scaled[0].reshape(1,28,28)))"
   ]
  },
  {
   "cell_type": "code",
   "execution_count": 28,
   "id": "b9b9e8e2",
   "metadata": {},
   "outputs": [
    {
     "data": {
      "text/plain": [
       "<matplotlib.image.AxesImage at 0x7f918e82faf0>"
      ]
     },
     "execution_count": 28,
     "metadata": {},
     "output_type": "execute_result"
    },
    {
     "data": {
      "image/png": "[encoded data removed]",
      "text/plain": [
       "<Figure size 640x480 with 1 Axes>"
      ]
     },
     "metadata": {},
     "output_type": "display_data"
    }
   ],
   "source": [
    "plt.imshow(test_input[0])"
   ]
  },
  {
   "cell_type": "markdown",
   "id": "73b44e1b",
   "metadata": {},
   "source": [
    "# CNN\n",
    "- 뉴런을 커널 또는 필터라고 부른다\n",
    "\n",
    "- 세임 패딩 : 입력과 특성 맵의 크기를 동일하게 만들기 위해 입력 주위에 0으로 패딩하는 것\n",
    "- 밸리드 패딩 : 패딩 없이 순수한 입력 배열에서만 합성곱을 하여 특성 맵을 만드는 경우\n",
    "- 스트라이드 : 특성 맵을 만들 때 커널의 이동 크기\n",
    "- 풀링 : 합성곱 층에서 만든 특성 맵의 가로세로 크기를 줄이는 역할이며, 최대풀링(손실이 적기 때문에 더 선호 됨)과 평균풀링이 있다.\n",
    "- 컬러 vs 흑백 : 차원의 수가 늘어난다고 할 수 있으며, 실질적으로 컬러는 마지막 차원이 3, 흑백은 1이라고 할 수 있다. 마찬가지로 합성곱 -> 합성곱을 할 때도 두번째 합성곱에 들어가는 input의 마지막 차원은 필터수라고 할 수 있다\n",
    "\n",
    "> n * n * n의 이미지를 필터를 통해 맵을 만드는 합성곱층과 크기를 줄이는 풀링층으로 구성, 다시 반복도 가능. 그리고, 계산 된 값을 1차원으로 하여 신경망에 넣어 계산한다. 합성곱은 주변의 것들과 함께 특성을 파악하는 것 같은?\n",
    "\n",
    "- ex(conv2d -> maxpooling -> conv2d -> maxpooling -> flatten -> dense -> dense)\n",
    "\n",
    "**Sample 규격**\n",
    "``` \n",
    "data를 reshape를 통해 차원을 맞추고 & 전처리를 한다\n",
    "model = keras.Sequential() # model 생성\n",
    "model.add(keras.layers.Conv2D(filter_number, kernel_size, activation, padding, input_shape) # input 값과 밀집층 뉴런 숫자\n",
    "model.add(keras.layers.MaxPool2D(2)) # 풀링수행\n",
    "```"
   ]
  },
  {
   "cell_type": "code",
   "execution_count": 29,
   "id": "49f76ff4",
   "metadata": {},
   "outputs": [],
   "source": [
    "from tensorflow import keras"
   ]
  },
  {
   "cell_type": "code",
   "execution_count": 30,
   "id": "39de3afb",
   "metadata": {},
   "outputs": [],
   "source": [
    "from sklearn.model_selection import train_test_split\n",
    "(train_input, train_target), (test_input, test_target) = keras.datasets.fashion_mnist.load_data()\n",
    "train_scaled = train_input.reshape(-1, 28, 28, 1) / 255.0\n",
    "train_scaled, val_scaled, train_target, val_target = \\\n",
    "train_test_split(train_scaled, train_target, test_size=0.2, random_state=42)"
   ]
  },
  {
   "cell_type": "code",
   "execution_count": 31,
   "id": "45556aca",
   "metadata": {},
   "outputs": [
    {
     "data": {
      "text/plain": [
       "(48000, 28, 28, 1)"
      ]
     },
     "execution_count": 31,
     "metadata": {},
     "output_type": "execute_result"
    }
   ],
   "source": [
    "train_scaled.shape"
   ]
  },
  {
   "cell_type": "code",
   "execution_count": 32,
   "id": "a3400b9f",
   "metadata": {},
   "outputs": [],
   "source": [
    "model = keras.Sequential()"
   ]
  },
  {
   "cell_type": "code",
   "execution_count": 33,
   "id": "b7d578a7",
   "metadata": {},
   "outputs": [],
   "source": [
    "model.add(keras.layers.Conv2D(32, kernel_size = 3, activation='relu', padding='same', input_shape=(28, 28, 1)))\n",
    "model.add(keras.layers.MaxPool2D(2))"
   ]
  },
  {
   "cell_type": "code",
   "execution_count": 34,
   "id": "b1db0678",
   "metadata": {},
   "outputs": [],
   "source": [
    "model.add(keras.layers.Conv2D(64, kernel_size = 3, activation='relu', padding='same'))\n",
    "model.add(keras.layers.MaxPool2D(2))"
   ]
  },
  {
   "cell_type": "code",
   "execution_count": 35,
   "id": "fe878bda",
   "metadata": {},
   "outputs": [],
   "source": [
    "model.add(keras.layers.Flatten())\n",
    "model.add(keras.layers.Dense(100, activation='relu'))\n",
    "model.add(keras.layers.Dropout(0.4))\n",
    "model.add(keras.layers.Dense(10, activation='softmax'))"
   ]
  },
  {
   "cell_type": "code",
   "execution_count": 36,
   "id": "0876a449",
   "metadata": {},
   "outputs": [
    {
     "name": "stdout",
     "output_type": "stream",
     "text": [
      "Model: \"sequential_1\"\n",
      "_________________________________________________________________\n",
      " Layer (type)                Output Shape              Param #   \n",
      "=================================================================\n",
      " conv2d (Conv2D)             (None, 28, 28, 32)        320       \n",
      "                                                                 \n",
      " max_pooling2d (MaxPooling2D  (None, 14, 14, 32)       0         \n",
      " )                                                               \n",
      "                                                                 \n",
      " conv2d_1 (Conv2D)           (None, 14, 14, 64)        18496     \n",
      "                                                                 \n",
      " max_pooling2d_1 (MaxPooling  (None, 7, 7, 64)         0         \n",
      " 2D)                                                             \n",
      "                                                                 \n",
      " flatten_1 (Flatten)         (None, 3136)              0         \n",
      "                                                                 \n",
      " dense_2 (Dense)             (None, 100)               313700    \n",
      "                                                                 \n",
      " dropout_1 (Dropout)         (None, 100)               0         \n",
      "                                                                 \n",
      " dense_3 (Dense)             (None, 10)                1010      \n",
      "                                                                 \n",
      "=================================================================\n",
      "Total params: 333,526\n",
      "Trainable params: 333,526\n",
      "Non-trainable params: 0\n",
      "_________________________________________________________________\n"
     ]
    }
   ],
   "source": [
    "model.summary()"
   ]
  },
  {
   "cell_type": "code",
   "execution_count": 40,
   "id": "1c57b12a",
   "metadata": {},
   "outputs": [],
   "source": [
    "model.compile(optimizer='adam', loss='sparse_categorical_crossentropy', metrics='accuracy')"
   ]
  },
  {
   "cell_type": "code",
   "execution_count": 41,
   "id": "dce68b5e",
   "metadata": {},
   "outputs": [
    {
     "data": {
      "image/png": "[encoded data removed]",
      "text/plain": [
       "<IPython.core.display.Image object>"
      ]
     },
     "execution_count": 41,
     "metadata": {},
     "output_type": "execute_result"
    }
   ],
   "source": [
    "keras.utils.plot_model(model)"
   ]
  },
  {
   "cell_type": "code",
   "execution_count": 42,
   "id": "19eebbfd",
   "metadata": {},
   "outputs": [
    {
     "name": "stdout",
     "output_type": "stream",
     "text": [
      "Epoch 1/20\n"
     ]
    },
    {
     "name": "stderr",
     "output_type": "stream",
     "text": [
      "2022-10-12 11:24:57.545467: I tensorflow/core/grappler/optimizers/custom_graph_optimizer_registry.cc:114] Plugin optimizer for device_type GPU is enabled.\n"
     ]
    },
    {
     "name": "stdout",
     "output_type": "stream",
     "text": [
      "1499/1500 [============================>.] - ETA: 0s - loss: 0.4888 - accuracy: 0.8249"
     ]
    },
    {
     "name": "stderr",
     "output_type": "stream",
     "text": [
      "2022-10-12 11:25:21.997495: I tensorflow/core/grappler/optimizers/custom_graph_optimizer_registry.cc:114] Plugin optimizer for device_type GPU is enabled.\n"
     ]
    },
    {
     "name": "stdout",
     "output_type": "stream",
     "text": [
      "1500/1500 [==============================] - 28s 17ms/step - loss: 0.4887 - accuracy: 0.8249 - val_loss: 0.3737 - val_accuracy: 0.8628\n",
      "Epoch 2/20\n",
      "1500/1500 [==============================] - 26s 17ms/step - loss: 0.3206 - accuracy: 0.8856 - val_loss: 0.2829 - val_accuracy: 0.8967\n",
      "Epoch 3/20\n",
      "1500/1500 [==============================] - 26s 17ms/step - loss: 0.2739 - accuracy: 0.9007 - val_loss: 0.2493 - val_accuracy: 0.9067\n",
      "Epoch 4/20\n",
      "1500/1500 [==============================] - 26s 17ms/step - loss: 0.2419 - accuracy: 0.9128 - val_loss: 0.2400 - val_accuracy: 0.9094\n",
      "Epoch 5/20\n",
      "1500/1500 [==============================] - 25s 17ms/step - loss: 0.2184 - accuracy: 0.9197 - val_loss: 0.2422 - val_accuracy: 0.9103\n",
      "Epoch 6/20\n",
      "1500/1500 [==============================] - 26s 17ms/step - loss: 0.1993 - accuracy: 0.9266 - val_loss: 0.2319 - val_accuracy: 0.9122\n",
      "Epoch 7/20\n",
      "1500/1500 [==============================] - 26s 17ms/step - loss: 0.1823 - accuracy: 0.9325 - val_loss: 0.2258 - val_accuracy: 0.9141\n",
      "Epoch 8/20\n",
      "1500/1500 [==============================] - 24s 16ms/step - loss: 0.1690 - accuracy: 0.9361 - val_loss: 0.2267 - val_accuracy: 0.9169\n",
      "Epoch 9/20\n",
      "1500/1500 [==============================] - 26s 17ms/step - loss: 0.1539 - accuracy: 0.9425 - val_loss: 0.2234 - val_accuracy: 0.9192\n",
      "Epoch 10/20\n",
      "1500/1500 [==============================] - 26s 18ms/step - loss: 0.1403 - accuracy: 0.9478 - val_loss: 0.2243 - val_accuracy: 0.9196\n",
      "Epoch 11/20\n",
      "1500/1500 [==============================] - 25s 17ms/step - loss: 0.1309 - accuracy: 0.9516 - val_loss: 0.2205 - val_accuracy: 0.9216\n",
      "Epoch 12/20\n",
      "1500/1500 [==============================] - 25s 17ms/step - loss: 0.1221 - accuracy: 0.9538 - val_loss: 0.2336 - val_accuracy: 0.9199\n",
      "Epoch 13/20\n",
      "1500/1500 [==============================] - 24s 16ms/step - loss: 0.1110 - accuracy: 0.9589 - val_loss: 0.2238 - val_accuracy: 0.9249\n"
     ]
    }
   ],
   "source": [
    "checkpoint_cb = keras.callbacks.ModelCheckpoint('best-cnn-model.h5', save_best_only=True)\n",
    "early_stopping_sb = keras.callbacks.EarlyStopping(patience=2, restore_best_weights=True)\n",
    "history = model.fit(train_scaled, train_target, epochs=20, \n",
    "                    validation_data=(val_scaled, val_target), callbacks=[checkpoint_cb, early_stopping_sb])"
   ]
  },
  {
   "cell_type": "code",
   "execution_count": 68,
   "id": "9a830cd5",
   "metadata": {},
   "outputs": [
    {
     "data": {
      "text/plain": [
       "<matplotlib.legend.Legend at 0x7f916ec41280>"
      ]
     },
     "execution_count": 68,
     "metadata": {},
     "output_type": "execute_result"
    },
    {
     "data": {
      "image/png": "[encoded data removed]",
      "text/plain": [
       "<Figure size 640x480 with 1 Axes>"
      ]
     },
     "metadata": {},
     "output_type": "display_data"
    }
   ],
   "source": [
    "plt.plot(history.history['loss'])\n",
    "plt.plot(history.history['val_loss'])\n",
    "plt.legend(['train', 'val'])"
   ]
  },
  {
   "cell_type": "code",
   "execution_count": 47,
   "id": "e7a81372",
   "metadata": {},
   "outputs": [
    {
     "name": "stdout",
     "output_type": "stream",
     "text": [
      "375/375 [==============================] - 4s 11ms/step - loss: 0.2205 - accuracy: 0.9216\n"
     ]
    },
    {
     "data": {
      "text/plain": [
       "[0.22047947347164154, 0.9215832948684692]"
      ]
     },
     "execution_count": 47,
     "metadata": {},
     "output_type": "execute_result"
    }
   ],
   "source": [
    "model.evaluate(val_scaled, val_target)"
   ]
  },
  {
   "cell_type": "code",
   "execution_count": 50,
   "id": "c716de0f",
   "metadata": {},
   "outputs": [
    {
     "data": {
      "text/plain": [
       "(28, 28, 1)"
      ]
     },
     "execution_count": 50,
     "metadata": {},
     "output_type": "execute_result"
    }
   ],
   "source": [
    "val_scaled[0].shape"
   ]
  },
  {
   "cell_type": "code",
   "execution_count": 51,
   "id": "976cc32a",
   "metadata": {},
   "outputs": [
    {
     "data": {
      "text/plain": [
       "<matplotlib.image.AxesImage at 0x7f91664f2bb0>"
      ]
     },
     "execution_count": 51,
     "metadata": {},
     "output_type": "execute_result"
    },
    {
     "data": {
      "image/png": "[encoded data removed]",
      "text/plain": [
       "<Figure size 640x480 with 1 Axes>"
      ]
     },
     "metadata": {},
     "output_type": "display_data"
    }
   ],
   "source": [
    "plt.imshow(val_scaled[0].reshape(28, 28))"
   ]
  },
  {
   "cell_type": "code",
   "execution_count": 61,
   "id": "b803b1c1",
   "metadata": {},
   "outputs": [
    {
     "name": "stdout",
     "output_type": "stream",
     "text": [
      "1/1 [==============================] - 0s 25ms/step\n"
     ]
    }
   ],
   "source": [
    "# preds = model.predict(val_scaled[0].reshape(-1, 28, 28))\n",
    "preds = model.predict(val_scaled[0:1])"
   ]
  },
  {
   "cell_type": "code",
   "execution_count": 62,
   "id": "5cced193",
   "metadata": {},
   "outputs": [
    {
     "data": {
      "text/plain": [
       "8"
      ]
     },
     "execution_count": 62,
     "metadata": {},
     "output_type": "execute_result"
    }
   ],
   "source": [
    "np.argmax(preds)"
   ]
  },
  {
   "cell_type": "code",
   "execution_count": 64,
   "id": "f686ee53",
   "metadata": {},
   "outputs": [
    {
     "data": {
      "text/plain": [
       "([<matplotlib.axis.XTick at 0x7f9165adf2e0>,\n",
       "  <matplotlib.axis.XTick at 0x7f9165adf2b0>,\n",
       "  <matplotlib.axis.XTick at 0x7f91668a9d90>,\n",
       "  <matplotlib.axis.XTick at 0x7f91668c6940>,\n",
       "  <matplotlib.axis.XTick at 0x7f916694db20>,\n",
       "  <matplotlib.axis.XTick at 0x7f91669babb0>,\n",
       "  <matplotlib.axis.XTick at 0x7f9166a2b760>,\n",
       "  <matplotlib.axis.XTick at 0x7f9166a2bfd0>,\n",
       "  <matplotlib.axis.XTick at 0x7f91669ba2e0>,\n",
       "  <matplotlib.axis.XTick at 0x7f9166a2fb50>],\n",
       " [Text(1, 0, '1'),\n",
       "  Text(2, 0, '2'),\n",
       "  Text(3, 0, '3'),\n",
       "  Text(4, 0, '4'),\n",
       "  Text(5, 0, '5'),\n",
       "  Text(6, 0, '6'),\n",
       "  Text(7, 0, '7'),\n",
       "  Text(8, 0, '8'),\n",
       "  Text(9, 0, '9'),\n",
       "  Text(10, 0, '10')])"
      ]
     },
     "execution_count": 64,
     "metadata": {},
     "output_type": "execute_result"
    },
    {
     "data": {
      "image/png": "[encoded data removed]",
      "text/plain": [
       "<Figure size 640x480 with 1 Axes>"
      ]
     },
     "metadata": {},
     "output_type": "display_data"
    }
   ],
   "source": [
    "plt.bar(range(1, 11), preds[0])\n",
    "plt.xticks(range(1, 11))"
   ]
  },
  {
   "cell_type": "code",
   "execution_count": 66,
   "id": "f472a685",
   "metadata": {},
   "outputs": [],
   "source": [
    "test_scaled = test_input.reshape(-1, 28, 28, 1) / 255.0"
   ]
  },
  {
   "cell_type": "code",
   "execution_count": 67,
   "id": "057b571d",
   "metadata": {},
   "outputs": [
    {
     "name": "stdout",
     "output_type": "stream",
     "text": [
      "\r",
      "  1/313 [..............................] - ETA: 1:33 - loss: 0.3072 - accuracy: 0.9062"
     ]
    },
    {
     "name": "stderr",
     "output_type": "stream",
     "text": [
      "2022-10-12 11:49:29.926886: I tensorflow/core/grappler/optimizers/custom_graph_optimizer_registry.cc:114] Plugin optimizer for device_type GPU is enabled.\n"
     ]
    },
    {
     "name": "stdout",
     "output_type": "stream",
     "text": [
      "313/313 [==============================] - 4s 13ms/step - loss: 0.2452 - accuracy: 0.9152\n"
     ]
    },
    {
     "data": {
      "text/plain": [
       "[0.2452256977558136, 0.9151999950408936]"
      ]
     },
     "execution_count": 67,
     "metadata": {},
     "output_type": "execute_result"
    }
   ],
   "source": [
    "model.evaluate(test_scaled, test_target)"
   ]
  },
  {
   "cell_type": "markdown",
   "id": "7a05888c",
   "metadata": {},
   "source": [
    "## CNN Visualization"
   ]
  },
  {
   "cell_type": "code",
   "execution_count": 124,
   "id": "d078181c",
   "metadata": {},
   "outputs": [],
   "source": [
    "model = keras.models.load_model('best-cnn-model.h5')"
   ]
  },
  {
   "cell_type": "code",
   "execution_count": 125,
   "id": "a8b941ba",
   "metadata": {},
   "outputs": [
    {
     "name": "stdout",
     "output_type": "stream",
     "text": [
      "Model: \"sequential_1\"\n",
      "_________________________________________________________________\n",
      " Layer (type)                Output Shape              Param #   \n",
      "=================================================================\n",
      " conv2d (Conv2D)             (None, 28, 28, 32)        320       \n",
      "                                                                 \n",
      " max_pooling2d (MaxPooling2D  (None, 14, 14, 32)       0         \n",
      " )                                                               \n",
      "                                                                 \n",
      " conv2d_1 (Conv2D)           (None, 14, 14, 64)        18496     \n",
      "                                                                 \n",
      " max_pooling2d_1 (MaxPooling  (None, 7, 7, 64)         0         \n",
      " 2D)                                                             \n",
      "                                                                 \n",
      " flatten_1 (Flatten)         (None, 3136)              0         \n",
      "                                                                 \n",
      " dense_2 (Dense)             (None, 100)               313700    \n",
      "                                                                 \n",
      " dropout_1 (Dropout)         (None, 100)               0         \n",
      "                                                                 \n",
      " dense_3 (Dense)             (None, 10)                1010      \n",
      "                                                                 \n",
      "=================================================================\n",
      "Total params: 333,526\n",
      "Trainable params: 333,526\n",
      "Non-trainable params: 0\n",
      "_________________________________________________________________\n"
     ]
    }
   ],
   "source": [
    "model.summary()"
   ]
  },
  {
   "cell_type": "code",
   "execution_count": 126,
   "id": "9483d8d4",
   "metadata": {},
   "outputs": [
    {
     "data": {
      "text/plain": [
       "[<keras.layers.convolutional.conv2d.Conv2D at 0x7fd032a8a7c0>,\n",
       " <keras.layers.pooling.max_pooling2d.MaxPooling2D at 0x7fd03f2c8a30>,\n",
       " <keras.layers.convolutional.conv2d.Conv2D at 0x7fd032a3c580>,\n",
       " <keras.layers.pooling.max_pooling2d.MaxPooling2D at 0x7fd032ad1340>,\n",
       " <keras.layers.reshaping.flatten.Flatten at 0x7fd032ae5a30>,\n",
       " <keras.layers.core.dense.Dense at 0x7fd0324e46a0>,\n",
       " <keras.layers.regularization.dropout.Dropout at 0x7fd032afc0a0>,\n",
       " <keras.layers.core.dense.Dense at 0x7fd031c53550>]"
      ]
     },
     "execution_count": 126,
     "metadata": {},
     "output_type": "execute_result"
    }
   ],
   "source": [
    "model.layers"
   ]
  },
  {
   "cell_type": "code",
   "execution_count": 127,
   "id": "7cafbb43",
   "metadata": {},
   "outputs": [],
   "source": [
    "conv = model.layers[0]"
   ]
  },
  {
   "cell_type": "code",
   "execution_count": 128,
   "id": "a8cd6413",
   "metadata": {},
   "outputs": [
    {
     "data": {
      "text/plain": [
       "TensorShape([3, 3, 1, 32])"
      ]
     },
     "execution_count": 128,
     "metadata": {},
     "output_type": "execute_result"
    }
   ],
   "source": [
    "conv.weights[0].shape"
   ]
  },
  {
   "cell_type": "code",
   "execution_count": 129,
   "id": "73c0f6e7",
   "metadata": {},
   "outputs": [
    {
     "data": {
      "text/plain": [
       "TensorShape([32])"
      ]
     },
     "execution_count": 129,
     "metadata": {},
     "output_type": "execute_result"
    }
   ],
   "source": [
    "conv.weights[1].shape"
   ]
  },
  {
   "cell_type": "code",
   "execution_count": 130,
   "id": "80e1bd26",
   "metadata": {},
   "outputs": [
    {
     "name": "stdout",
     "output_type": "stream",
     "text": [
      "-0.020716676 0.25974146\n"
     ]
    }
   ],
   "source": [
    "conv_weights = conv.weights[0].numpy()\n",
    "print(conv_weights.mean(), conv_weights.std())"
   ]
  },
  {
   "cell_type": "code",
   "execution_count": 131,
   "id": "f53ea1fc",
   "metadata": {
    "scrolled": false
   },
   "outputs": [
    {
     "data": {
      "image/png": "[encoded data removed]",
      "text/plain": [
       "<Figure size 640x480 with 1 Axes>"
      ]
     },
     "metadata": {},
     "output_type": "display_data"
    }
   ],
   "source": [
    "plt.hist(conv_weights.reshape(-1, 1))\n",
    "plt.xlabel('weight')\n",
    "plt.ylabel('count')\n",
    "plt.show()"
   ]
  },
  {
   "cell_type": "code",
   "execution_count": 132,
   "id": "63b5458a",
   "metadata": {},
   "outputs": [
    {
     "data": {
      "image/png": "[encoded data removed]",
      "text/plain": [
       "<Figure size 1500x200 with 32 Axes>"
      ]
     },
     "metadata": {},
     "output_type": "display_data"
    }
   ],
   "source": [
    "fig, axs = plt.subplots(2, 16, figsize=(15,2))\n",
    "for i in range(2):\n",
    "    for j in range(16):\n",
    "        axs[i, j].imshow(conv_weights[:,:,0,i*16 + j], vmin=-0.5, vmax=0.5)\n",
    "        axs[i, j].axis('off')\n",
    "plt.show()"
   ]
  },
  {
   "cell_type": "code",
   "execution_count": 133,
   "id": "0516078e",
   "metadata": {},
   "outputs": [],
   "source": [
    "no_training_model = keras.Sequential()\n",
    "no_training_model.add(keras.layers.Conv2D(32, kernel_size=3, activation='relu', padding='same', input_shape= (28, 28, 1)))"
   ]
  },
  {
   "cell_type": "code",
   "execution_count": 134,
   "id": "65adb483",
   "metadata": {},
   "outputs": [
    {
     "data": {
      "text/plain": [
       "TensorShape([3, 3, 1, 32])"
      ]
     },
     "execution_count": 134,
     "metadata": {},
     "output_type": "execute_result"
    }
   ],
   "source": [
    "no_training_conv = no_training_model.layers[0]\n",
    "no_training_conv.weights[0].shape"
   ]
  },
  {
   "cell_type": "code",
   "execution_count": 135,
   "id": "82a637d3",
   "metadata": {},
   "outputs": [
    {
     "name": "stdout",
     "output_type": "stream",
     "text": [
      "0.0063517634 0.083720915\n"
     ]
    }
   ],
   "source": [
    "no_training_weights = no_training_conv.weights[0].numpy()\n",
    "print(no_training_weights.mean(), no_training_weights.std())"
   ]
  },
  {
   "cell_type": "code",
   "execution_count": 136,
   "id": "fcbf1eca",
   "metadata": {},
   "outputs": [
    {
     "data": {
      "image/png": "[encoded data removed]",
      "text/plain": [
       "<Figure size 640x480 with 1 Axes>"
      ]
     },
     "metadata": {},
     "output_type": "display_data"
    }
   ],
   "source": [
    "plt.hist(no_training_weights.reshape(-1, 1))\n",
    "plt.show()"
   ]
  },
  {
   "cell_type": "code",
   "execution_count": 137,
   "id": "6f990945",
   "metadata": {},
   "outputs": [
    {
     "data": {
      "image/png": "[encoded data removed]",
      "text/plain": [
       "<Figure size 1500x200 with 32 Axes>"
      ]
     },
     "metadata": {},
     "output_type": "display_data"
    }
   ],
   "source": [
    "fig, axs = plt.subplots(2, 16, figsize=(15,2))\n",
    "for i in range(2):\n",
    "    for j in range(16):\n",
    "        axs[i, j].imshow(no_training_weights[:,:,0,i*16 + j], vmin=-0.5, vmax=0.5)\n",
    "        axs[i, j].axis('off')\n",
    "plt.show()"
   ]
  },
  {
   "cell_type": "markdown",
   "id": "3d5c852c",
   "metadata": {},
   "source": [
    "# 함수형 API\n",
    "- 복잡한 모델을 만들때 사용하며, 각 층의 결괏값을 알 수 있다(ex. Conv2D 결과값)\n",
    "- Model에서 input과 output을 지정하면, input부터 특정 레이어 까지의 결과를 알 수 있다"
   ]
  },
  {
   "cell_type": "code",
   "execution_count": 147,
   "id": "41c80c45",
   "metadata": {},
   "outputs": [
    {
     "name": "stdout",
     "output_type": "stream",
     "text": [
      "Model: \"sequential_1\"\n",
      "_________________________________________________________________\n",
      " Layer (type)                Output Shape              Param #   \n",
      "=================================================================\n",
      " conv2d (Conv2D)             (None, 28, 28, 32)        320       \n",
      "                                                                 \n",
      " max_pooling2d (MaxPooling2D  (None, 14, 14, 32)       0         \n",
      " )                                                               \n",
      "                                                                 \n",
      " conv2d_1 (Conv2D)           (None, 14, 14, 64)        18496     \n",
      "                                                                 \n",
      " max_pooling2d_1 (MaxPooling  (None, 7, 7, 64)         0         \n",
      " 2D)                                                             \n",
      "                                                                 \n",
      " flatten_1 (Flatten)         (None, 3136)              0         \n",
      "                                                                 \n",
      " dense_2 (Dense)             (None, 100)               313700    \n",
      "                                                                 \n",
      " dropout_1 (Dropout)         (None, 100)               0         \n",
      "                                                                 \n",
      " dense_3 (Dense)             (None, 10)                1010      \n",
      "                                                                 \n",
      "=================================================================\n",
      "Total params: 333,526\n",
      "Trainable params: 333,526\n",
      "Non-trainable params: 0\n",
      "_________________________________________________________________\n"
     ]
    }
   ],
   "source": [
    "model.summary()"
   ]
  },
  {
   "cell_type": "code",
   "execution_count": 148,
   "id": "17e588e7",
   "metadata": {},
   "outputs": [],
   "source": [
    "conv_acti = keras.Model(model.input, model.layers[0].output)"
   ]
  },
  {
   "cell_type": "code",
   "execution_count": 151,
   "id": "7c437322",
   "metadata": {},
   "outputs": [],
   "source": [
    "(train_input, train_target), (test_input, test_target) = \\\n",
    "keras.datasets.fashion_mnist.load_data()"
   ]
  },
  {
   "cell_type": "code",
   "execution_count": 152,
   "id": "aec1a0ef",
   "metadata": {},
   "outputs": [
    {
     "data": {
      "text/plain": [
       "<matplotlib.image.AxesImage at 0x7fd031bc04f0>"
      ]
     },
     "execution_count": 152,
     "metadata": {},
     "output_type": "execute_result"
    },
    {
     "data": {
      "image/png": "[encoded data removed]",
      "text/plain": [
       "<Figure size 640x480 with 1 Axes>"
      ]
     },
     "metadata": {},
     "output_type": "display_data"
    }
   ],
   "source": [
    "plt.imshow(train_input[0], cmap='gray_r')"
   ]
  },
  {
   "cell_type": "code",
   "execution_count": 153,
   "id": "7c2d4aab",
   "metadata": {},
   "outputs": [],
   "source": [
    "inputs = train_input[0:1].reshape(-1, 28, 28, 1) / 255."
   ]
  },
  {
   "cell_type": "code",
   "execution_count": 154,
   "id": "7dd5a138",
   "metadata": {},
   "outputs": [
    {
     "data": {
      "text/plain": [
       "(1, 28, 28, 1)"
      ]
     },
     "execution_count": 154,
     "metadata": {},
     "output_type": "execute_result"
    }
   ],
   "source": [
    "inputs.shape"
   ]
  },
  {
   "cell_type": "code",
   "execution_count": 155,
   "id": "c766310b",
   "metadata": {},
   "outputs": [
    {
     "name": "stdout",
     "output_type": "stream",
     "text": [
      "1/1 [==============================] - 0s 46ms/step\n"
     ]
    },
    {
     "name": "stderr",
     "output_type": "stream",
     "text": [
      "2022-10-12 22:43:13.968077: I tensorflow/core/grappler/optimizers/custom_graph_optimizer_registry.cc:114] Plugin optimizer for device_type GPU is enabled.\n"
     ]
    }
   ],
   "source": [
    "feature_maps = conv_acti.predict(inputs)"
   ]
  },
  {
   "cell_type": "code",
   "execution_count": 156,
   "id": "c8eb0434",
   "metadata": {},
   "outputs": [
    {
     "data": {
      "text/plain": [
       "(1, 28, 28, 32)"
      ]
     },
     "execution_count": 156,
     "metadata": {},
     "output_type": "execute_result"
    }
   ],
   "source": [
    "feature_maps.shape"
   ]
  },
  {
   "cell_type": "code",
   "execution_count": 157,
   "id": "739623ca",
   "metadata": {},
   "outputs": [
    {
     "data": {
      "image/png": "[encoded data removed]",
      "text/plain": [
       "<Figure size 1500x800 with 32 Axes>"
      ]
     },
     "metadata": {},
     "output_type": "display_data"
    }
   ],
   "source": [
    "fig, axs = plt.subplots(4, 8, figsize=(15, 8))\n",
    "for i in range(4):\n",
    "    for j in range(8):\n",
    "        axs[i, j].imshow(feature_maps[0, :, : , i*8 + j])\n",
    "        axs[i, j].axis('off')\n",
    "plt.show()"
   ]
  },
  {
   "cell_type": "code",
   "execution_count": 158,
   "id": "1edde425",
   "metadata": {},
   "outputs": [],
   "source": [
    "conv2_acti = keras.Model(model.input, model.layers[2].output)"
   ]
  },
  {
   "cell_type": "code",
   "execution_count": 159,
   "id": "34536617",
   "metadata": {},
   "outputs": [
    {
     "name": "stdout",
     "output_type": "stream",
     "text": [
      "WARNING:tensorflow:5 out of the last 7 calls to <function Model.make_predict_function.<locals>.predict_function at 0x7fd033ad1ee0> triggered tf.function retracing. Tracing is expensive and the excessive number of tracings could be due to (1) creating @tf.function repeatedly in a loop, (2) passing tensors with different shapes, (3) passing Python objects instead of tensors. For (1), please define your @tf.function outside of the loop. For (2), @tf.function has reduce_retracing=True option that can avoid unnecessary retracing. For (3), please refer to https://www.tensorflow.org/guide/function#controlling_retracing and https://www.tensorflow.org/api_docs/python/tf/function for  more details.\n",
      "1/1 [==============================] - 0s 76ms/step\n"
     ]
    },
    {
     "name": "stderr",
     "output_type": "stream",
     "text": [
      "2022-10-12 22:44:24.298398: I tensorflow/core/grappler/optimizers/custom_graph_optimizer_registry.cc:114] Plugin optimizer for device_type GPU is enabled.\n"
     ]
    }
   ],
   "source": [
    "input = train_input[0:1].reshape(-1, 28, 28, 1) / 255.0\n",
    "feature_maps = conv2_acti.predict(inputs)"
   ]
  },
  {
   "cell_type": "code",
   "execution_count": 160,
   "id": "0d9dd3b3",
   "metadata": {},
   "outputs": [
    {
     "data": {
      "text/plain": [
       "(1, 14, 14, 64)"
      ]
     },
     "execution_count": 160,
     "metadata": {},
     "output_type": "execute_result"
    }
   ],
   "source": [
    "feature_maps.shape"
   ]
  },
  {
   "cell_type": "code",
   "execution_count": 162,
   "id": "dae8ae7d",
   "metadata": {
    "scrolled": true
   },
   "outputs": [
    {
     "data": {
      "image/png": "[encoded data removed]",
      "text/plain": [
       "<Figure size 1200x1200 with 64 Axes>"
      ]
     },
     "metadata": {},
     "output_type": "display_data"
    }
   ],
   "source": [
    "fig, axs = plt.subplots(8, 8, figsize=(12, 12))\n",
    "for i in range(8):\n",
    "    for j in range(8):\n",
    "        axs[i, j].imshow(feature_maps[0,:,:,i*8+j])\n",
    "        axs[i, j].axis('off')\n",
    "plt.show()"
   ]
  },
  {
   "cell_type": "markdown",
   "id": "08b24ae8",
   "metadata": {},
   "source": [
    "# 순환신경망\n",
    "- 순차 데이터 : 텍스트나 시계열 데이터와 같이 순서에 의미가 있는 데이터\n",
    "- \n",
    "> 이전 샘플 기억, 순환층에 은닉층도 서로 연결"
   ]
  },
  {
   "cell_type": "code",
   "execution_count": null,
   "id": "39e7fb69",
   "metadata": {},
   "outputs": [],
   "source": []
  },
  {
   "cell_type": "code",
   "execution_count": 16,
   "id": "1b06e98c",
   "metadata": {},
   "outputs": [],
   "source": [
    "from tensorflow.keras.datasets import imdb\n",
    "from sklearn.model_selection import train_test_split\n",
    "from tensorflow.keras.preprocessing.sequence import pad_sequences\n",
    "from tensorflow import keras"
   ]
  },
  {
   "cell_type": "code",
   "execution_count": 27,
   "id": "fef1c319",
   "metadata": {},
   "outputs": [],
   "source": [
    "(train_input, train_target), (test_input, test_target) = imdb.load_data(num_words=500)\n",
    "train_input, val_input, train_target, val_target = train_test_split(train_input, train_target, test_size=0.2, random_state=42)\n"
   ]
  },
  {
   "cell_type": "code",
   "execution_count": 31,
   "id": "8735404c",
   "metadata": {},
   "outputs": [],
   "source": [
    "train_seq = pad_sequences(train_input, maxlen=100)\n",
    "train_seq.shape\n",
    "\n",
    "val_seq = pad_sequences(val_input, maxlen=100)"
   ]
  },
  {
   "cell_type": "code",
   "execution_count": 32,
   "id": "c5b95e82",
   "metadata": {},
   "outputs": [],
   "source": [
    "model = keras.Sequential()\n",
    "\n",
    "model.add(keras.layers.SimpleRNN(8, input_shape=(100, 500)))\n",
    "model.add(keras.layers.Dense(1, activation='sigmoid'))\n",
    "\n",
    "train_oh = keras.utils.to_categorical(train_seq)\n",
    "        "
   ]
  },
  {
   "cell_type": "code",
   "execution_count": 33,
   "id": "88e8fb60",
   "metadata": {},
   "outputs": [
    {
     "name": "stdout",
     "output_type": "stream",
     "text": [
      "Model: \"sequential_2\"\n",
      "_________________________________________________________________\n",
      " Layer (type)                Output Shape              Param #   \n",
      "=================================================================\n",
      " simple_rnn_2 (SimpleRNN)    (None, 8)                 4072      \n",
      "                                                                 \n",
      " dense_2 (Dense)             (None, 1)                 9         \n",
      "                                                                 \n",
      "=================================================================\n",
      "Total params: 4,081\n",
      "Trainable params: 4,081\n",
      "Non-trainable params: 0\n",
      "_________________________________________________________________\n"
     ]
    }
   ],
   "source": [
    "val_oh = keras.utils.to_categorical(val_seq)\n",
    "\n",
    "model.summary()"
   ]
  },
  {
   "cell_type": "code",
   "execution_count": 38,
   "id": "faf5bc9d",
   "metadata": {},
   "outputs": [],
   "source": [
    "rmsprop = keras.optimizers.RMSprop(learning_rate=1e-4)\n",
    "model.compile(optimizer=rmsprop, loss='binary_crossentropy', metrics=['accuracy'])"
   ]
  },
  {
   "cell_type": "code",
   "execution_count": 41,
   "id": "c189de29",
   "metadata": {},
   "outputs": [
    {
     "name": "stdout",
     "output_type": "stream",
     "text": [
      "Epoch 1/100\n",
      "313/313 [==============================] - 14s 43ms/step - loss: 0.6980 - accuracy: 0.5031 - val_loss: 0.6971 - val_accuracy: 0.5068\n",
      "Epoch 2/100\n",
      "313/313 [==============================] - 12s 37ms/step - loss: 0.6950 - accuracy: 0.5128 - val_loss: 0.6955 - val_accuracy: 0.5092\n",
      "Epoch 3/100\n",
      "313/313 [==============================] - 11s 35ms/step - loss: 0.6926 - accuracy: 0.5225 - val_loss: 0.6940 - val_accuracy: 0.5144\n",
      "Epoch 4/100\n",
      "313/313 [==============================] - 11s 34ms/step - loss: 0.6905 - accuracy: 0.5307 - val_loss: 0.6925 - val_accuracy: 0.5208\n",
      "Epoch 5/100\n",
      "313/313 [==============================] - 11s 34ms/step - loss: 0.6884 - accuracy: 0.5408 - val_loss: 0.6912 - val_accuracy: 0.5266\n",
      "Epoch 6/100\n",
      "313/313 [==============================] - 11s 34ms/step - loss: 0.6864 - accuracy: 0.5502 - val_loss: 0.6898 - val_accuracy: 0.5312\n",
      "Epoch 7/100\n",
      "313/313 [==============================] - 11s 35ms/step - loss: 0.6843 - accuracy: 0.5602 - val_loss: 0.6882 - val_accuracy: 0.5390\n",
      "Epoch 8/100\n",
      "313/313 [==============================] - 11s 34ms/step - loss: 0.6819 - accuracy: 0.5690 - val_loss: 0.6864 - val_accuracy: 0.5476\n",
      "Epoch 9/100\n",
      "313/313 [==============================] - 11s 34ms/step - loss: 0.6793 - accuracy: 0.5778 - val_loss: 0.6845 - val_accuracy: 0.5564\n",
      "Epoch 10/100\n",
      "313/313 [==============================] - 10s 32ms/step - loss: 0.6763 - accuracy: 0.5849 - val_loss: 0.6819 - val_accuracy: 0.5646\n",
      "Epoch 11/100\n",
      "313/313 [==============================] - 10s 33ms/step - loss: 0.6728 - accuracy: 0.5948 - val_loss: 0.6790 - val_accuracy: 0.5698\n",
      "Epoch 12/100\n",
      "313/313 [==============================] - 10s 33ms/step - loss: 0.6686 - accuracy: 0.6051 - val_loss: 0.6747 - val_accuracy: 0.5814\n",
      "Epoch 13/100\n",
      "313/313 [==============================] - 10s 33ms/step - loss: 0.6627 - accuracy: 0.6150 - val_loss: 0.6671 - val_accuracy: 0.5990\n",
      "Epoch 14/100\n",
      "313/313 [==============================] - 10s 32ms/step - loss: 0.6482 - accuracy: 0.6375 - val_loss: 0.6384 - val_accuracy: 0.6466\n",
      "Epoch 15/100\n",
      "313/313 [==============================] - 10s 32ms/step - loss: 0.6039 - accuracy: 0.6825 - val_loss: 0.6052 - val_accuracy: 0.6828\n",
      "Epoch 16/100\n",
      "313/313 [==============================] - 10s 33ms/step - loss: 0.5857 - accuracy: 0.6999 - val_loss: 0.5931 - val_accuracy: 0.6952\n",
      "Epoch 17/100\n",
      "313/313 [==============================] - 10s 33ms/step - loss: 0.5730 - accuracy: 0.7110 - val_loss: 0.5790 - val_accuracy: 0.7064\n",
      "Epoch 18/100\n",
      "313/313 [==============================] - 11s 34ms/step - loss: 0.5597 - accuracy: 0.7225 - val_loss: 0.5691 - val_accuracy: 0.7164\n",
      "Epoch 19/100\n",
      "313/313 [==============================] - 11s 35ms/step - loss: 0.5455 - accuracy: 0.7319 - val_loss: 0.5563 - val_accuracy: 0.7270\n",
      "Epoch 20/100\n",
      "313/313 [==============================] - 10s 33ms/step - loss: 0.5345 - accuracy: 0.7418 - val_loss: 0.5505 - val_accuracy: 0.7298\n",
      "Epoch 21/100\n",
      "313/313 [==============================] - 10s 33ms/step - loss: 0.5249 - accuracy: 0.7479 - val_loss: 0.5449 - val_accuracy: 0.7324\n",
      "Epoch 22/100\n",
      "313/313 [==============================] - 10s 33ms/step - loss: 0.5163 - accuracy: 0.7558 - val_loss: 0.5312 - val_accuracy: 0.7430\n",
      "Epoch 23/100\n",
      "313/313 [==============================] - 10s 34ms/step - loss: 0.5080 - accuracy: 0.7595 - val_loss: 0.5256 - val_accuracy: 0.7474\n",
      "Epoch 24/100\n",
      "313/313 [==============================] - 10s 33ms/step - loss: 0.4989 - accuracy: 0.7684 - val_loss: 0.5180 - val_accuracy: 0.7512\n",
      "Epoch 25/100\n",
      "313/313 [==============================] - 11s 34ms/step - loss: 0.4930 - accuracy: 0.7706 - val_loss: 0.5129 - val_accuracy: 0.7550\n",
      "Epoch 26/100\n",
      "313/313 [==============================] - 11s 34ms/step - loss: 0.4864 - accuracy: 0.7762 - val_loss: 0.5089 - val_accuracy: 0.7602\n",
      "Epoch 27/100\n",
      "313/313 [==============================] - 11s 34ms/step - loss: 0.4798 - accuracy: 0.7808 - val_loss: 0.5065 - val_accuracy: 0.7580\n",
      "Epoch 28/100\n",
      "313/313 [==============================] - 10s 34ms/step - loss: 0.4739 - accuracy: 0.7833 - val_loss: 0.4979 - val_accuracy: 0.7662\n",
      "Epoch 29/100\n",
      "313/313 [==============================] - 11s 34ms/step - loss: 0.4688 - accuracy: 0.7886 - val_loss: 0.4953 - val_accuracy: 0.7682\n",
      "Epoch 30/100\n",
      "313/313 [==============================] - 11s 34ms/step - loss: 0.4643 - accuracy: 0.7910 - val_loss: 0.4900 - val_accuracy: 0.7676\n",
      "Epoch 31/100\n",
      "313/313 [==============================] - 10s 32ms/step - loss: 0.4603 - accuracy: 0.7929 - val_loss: 0.4891 - val_accuracy: 0.7698\n",
      "Epoch 32/100\n",
      "313/313 [==============================] - 10s 32ms/step - loss: 0.4566 - accuracy: 0.7947 - val_loss: 0.4907 - val_accuracy: 0.7662\n",
      "Epoch 33/100\n",
      "313/313 [==============================] - 10s 33ms/step - loss: 0.4534 - accuracy: 0.7949 - val_loss: 0.4839 - val_accuracy: 0.7704\n",
      "Epoch 34/100\n",
      "313/313 [==============================] - 11s 34ms/step - loss: 0.4494 - accuracy: 0.7990 - val_loss: 0.4908 - val_accuracy: 0.7670\n",
      "Epoch 35/100\n",
      "313/313 [==============================] - 10s 33ms/step - loss: 0.4461 - accuracy: 0.8023 - val_loss: 0.4789 - val_accuracy: 0.7732\n",
      "Epoch 36/100\n",
      "313/313 [==============================] - 11s 34ms/step - loss: 0.4428 - accuracy: 0.8032 - val_loss: 0.4820 - val_accuracy: 0.7710\n",
      "Epoch 37/100\n",
      "313/313 [==============================] - 10s 33ms/step - loss: 0.4414 - accuracy: 0.8037 - val_loss: 0.4832 - val_accuracy: 0.7704\n",
      "Epoch 38/100\n",
      "313/313 [==============================] - 10s 33ms/step - loss: 0.4380 - accuracy: 0.8073 - val_loss: 0.4787 - val_accuracy: 0.7764\n",
      "Epoch 39/100\n",
      "313/313 [==============================] - 11s 34ms/step - loss: 0.4360 - accuracy: 0.8077 - val_loss: 0.4818 - val_accuracy: 0.7710\n",
      "Epoch 40/100\n",
      "313/313 [==============================] - 11s 34ms/step - loss: 0.4342 - accuracy: 0.8089 - val_loss: 0.4800 - val_accuracy: 0.7716\n",
      "Epoch 41/100\n",
      "313/313 [==============================] - 11s 34ms/step - loss: 0.4320 - accuracy: 0.8084 - val_loss: 0.4778 - val_accuracy: 0.7738\n",
      "Epoch 42/100\n",
      "313/313 [==============================] - 11s 34ms/step - loss: 0.4294 - accuracy: 0.8124 - val_loss: 0.4715 - val_accuracy: 0.7766\n",
      "Epoch 43/100\n",
      "313/313 [==============================] - 10s 33ms/step - loss: 0.4281 - accuracy: 0.8121 - val_loss: 0.4699 - val_accuracy: 0.7768\n",
      "Epoch 44/100\n",
      "313/313 [==============================] - 10s 33ms/step - loss: 0.4259 - accuracy: 0.8122 - val_loss: 0.4694 - val_accuracy: 0.7766\n",
      "Epoch 45/100\n",
      "313/313 [==============================] - 10s 33ms/step - loss: 0.4242 - accuracy: 0.8126 - val_loss: 0.4692 - val_accuracy: 0.7770\n",
      "Epoch 46/100\n",
      "313/313 [==============================] - 11s 34ms/step - loss: 0.4228 - accuracy: 0.8134 - val_loss: 0.4684 - val_accuracy: 0.7766\n",
      "Epoch 47/100\n",
      "313/313 [==============================] - 10s 33ms/step - loss: 0.4205 - accuracy: 0.8165 - val_loss: 0.4749 - val_accuracy: 0.7792\n",
      "Epoch 48/100\n",
      "313/313 [==============================] - 10s 33ms/step - loss: 0.4194 - accuracy: 0.8164 - val_loss: 0.4713 - val_accuracy: 0.7796\n",
      "Epoch 49/100\n",
      "313/313 [==============================] - 10s 33ms/step - loss: 0.4176 - accuracy: 0.8163 - val_loss: 0.4660 - val_accuracy: 0.7780\n",
      "Epoch 50/100\n",
      "313/313 [==============================] - 10s 33ms/step - loss: 0.4165 - accuracy: 0.8177 - val_loss: 0.4678 - val_accuracy: 0.7816\n",
      "Epoch 51/100\n",
      "313/313 [==============================] - 10s 33ms/step - loss: 0.4145 - accuracy: 0.8194 - val_loss: 0.4659 - val_accuracy: 0.7804\n",
      "Epoch 52/100\n",
      "313/313 [==============================] - 10s 33ms/step - loss: 0.4134 - accuracy: 0.8188 - val_loss: 0.4669 - val_accuracy: 0.7840\n",
      "Epoch 53/100\n",
      "313/313 [==============================] - 10s 33ms/step - loss: 0.4116 - accuracy: 0.8191 - val_loss: 0.4697 - val_accuracy: 0.7806\n",
      "Epoch 54/100\n",
      "313/313 [==============================] - 10s 33ms/step - loss: 0.4111 - accuracy: 0.8188 - val_loss: 0.4662 - val_accuracy: 0.7796\n"
     ]
    }
   ],
   "source": [
    "checkpoint_cb = keras.callbacks.ModelCheckpoint('best-simplernn-model.h5', save_best_only=True)\n",
    "early_stopping_cb = keras.callbacks.EarlyStopping(patience=3, restore_best_weights=True)\n",
    "\n",
    "history = model.fit(train_oh, train_target, epochs=100, batch_size=64, validation_data = (val_oh, val_target), \n",
    "                    callbacks=[checkpoint_cb, early_stopping_cb])"
   ]
  },
  {
   "cell_type": "code",
   "execution_count": 1,
   "id": "b0683fc2",
   "metadata": {},
   "outputs": [],
   "source": [
    "# 자연어 처리"
   ]
  },
  {
   "cell_type": "markdown",
   "id": "5a5c896f",
   "metadata": {},
   "source": [
    "# 7. 텍스트 데이터\n",
    "- 희소 행렬의 고차원 데이터셋에서는 LogisticRegression같은 선형 모델의 성능이 가장 뛰어나다\n",
    "\n",
    "> 1. 텍스트들을 split 한다. 토크나이저 \n",
    "    1.1 불용어, 맥스/미니멈 단어를 통해 불필요 단어를 제한한다\n",
    "    1.2 유니그램 트라이그램 등 단어 묶음\n",
    ">2. 어휘사전 구축 (정리 된 단어들에 대해 번호를 매긴다)\n",
    ">3. 인코딩 (원핫처럼 표현) -> TFIDF를 사용하여 스케일링\n"
   ]
  },
  {
   "cell_type": "code",
   "execution_count": 11,
   "id": "2b1848b6",
   "metadata": {},
   "outputs": [],
   "source": [
    "from sklearn.datasets import load_files\n",
    "import numpy as np\n",
    "import pandas as pd"
   ]
  },
  {
   "cell_type": "code",
   "execution_count": 5,
   "id": "33c54e89",
   "metadata": {},
   "outputs": [],
   "source": [
    "reviews_train = load_files('data/aclImdb/train/')"
   ]
  },
  {
   "cell_type": "code",
   "execution_count": 6,
   "id": "23f6528d",
   "metadata": {},
   "outputs": [],
   "source": [
    "text_train, y_train = reviews_train.data, reviews_train.target"
   ]
  },
  {
   "cell_type": "code",
   "execution_count": 7,
   "id": "f6f77f15",
   "metadata": {},
   "outputs": [
    {
     "data": {
      "text/plain": [
       "b'Full of (then) unknown actors TSF is a great big cuddly romp of a film.<br /><br />The idea of a bunch of bored teenagers ripping off the local sink factory is odd enough, but add in the black humour that Forsyth & Co are so good at and your in for a real treat.<br /><br />The comatose van driver by itself worth seeing, and the canal side chase is just too real to be anything but funny.<br /><br />And for anyone who lived in Glasgow it\\'s a great \"Oh I know where that is\" film.'"
      ]
     },
     "execution_count": 7,
     "metadata": {},
     "output_type": "execute_result"
    }
   ],
   "source": [
    "text_train[0]"
   ]
  },
  {
   "cell_type": "code",
   "execution_count": 8,
   "id": "17d83f21",
   "metadata": {},
   "outputs": [
    {
     "data": {
      "text/plain": [
       "b'Full of (then) unknown actors TSF is a great big cuddly romp of a film.  The idea of a bunch of bored teenagers ripping off the local sink factory is odd enough, but add in the black humour that Forsyth & Co are so good at and your in for a real treat.  The comatose van driver by itself worth seeing, and the canal side chase is just too real to be anything but funny.  And for anyone who lived in Glasgow it\\'s a great \"Oh I know where that is\" film.'"
      ]
     },
     "execution_count": 8,
     "metadata": {},
     "output_type": "execute_result"
    }
   ],
   "source": [
    "text_train = [doc.replace(b\"<br />\", b\" \") for doc in text_train]\n",
    "text_train[0]"
   ]
  },
  {
   "cell_type": "code",
   "execution_count": 12,
   "id": "b74a7997",
   "metadata": {},
   "outputs": [
    {
     "data": {
      "text/plain": [
       "array([0, 1, 2])"
      ]
     },
     "execution_count": 12,
     "metadata": {},
     "output_type": "execute_result"
    }
   ],
   "source": [
    "np.bincount(y_train)\n",
    "np.unique(y_train)"
   ]
  },
  {
   "cell_type": "markdown",
   "id": "fdae4d6c",
   "metadata": {},
   "source": [
    "# BOW(Bag of Word)\n",
    "1. 토큰화\n",
    "2. 어휘 사전 구축\n",
    "3. 인코딩"
   ]
  },
  {
   "cell_type": "code",
   "execution_count": 13,
   "id": "e8052747",
   "metadata": {},
   "outputs": [],
   "source": [
    "bards_words = [\"The fool doth think he is wise,\",\n",
    "              \"but the wise man know himself to be a fool\"]"
   ]
  },
  {
   "cell_type": "code",
   "execution_count": 14,
   "id": "3fd72016",
   "metadata": {},
   "outputs": [],
   "source": [
    "from sklearn.feature_extraction.text import CountVectorizer"
   ]
  },
  {
   "cell_type": "code",
   "execution_count": 15,
   "id": "a090f57e",
   "metadata": {},
   "outputs": [
    {
     "data": {
      "text/plain": [
       "CountVectorizer()"
      ]
     },
     "execution_count": 15,
     "metadata": {},
     "output_type": "execute_result"
    }
   ],
   "source": [
    "vect = CountVectorizer()\n",
    "vect.fit(bards_words)"
   ]
  },
  {
   "cell_type": "code",
   "execution_count": 16,
   "id": "7caef4c5",
   "metadata": {},
   "outputs": [
    {
     "data": {
      "text/plain": [
       "{'the': 9,\n",
       " 'fool': 3,\n",
       " 'doth': 2,\n",
       " 'think': 10,\n",
       " 'he': 4,\n",
       " 'is': 6,\n",
       " 'wise': 12,\n",
       " 'but': 1,\n",
       " 'man': 8,\n",
       " 'know': 7,\n",
       " 'himself': 5,\n",
       " 'to': 11,\n",
       " 'be': 0}"
      ]
     },
     "execution_count": 16,
     "metadata": {},
     "output_type": "execute_result"
    }
   ],
   "source": [
    "vect.vocabulary_"
   ]
  },
  {
   "cell_type": "code",
   "execution_count": 17,
   "id": "ac5bc106",
   "metadata": {},
   "outputs": [
    {
     "name": "stdout",
     "output_type": "stream",
     "text": [
      "BOW: <2x13 sparse matrix of type '<class 'numpy.int64'>'\n",
      "\twith 16 stored elements in Compressed Sparse Row format>\n"
     ]
    }
   ],
   "source": [
    "bag_of_words = vect.transform(bards_words)\n",
    "print(\"BOW:\", repr(bag_of_words))"
   ]
  },
  {
   "cell_type": "code",
   "execution_count": 18,
   "id": "12ac95b6",
   "metadata": {},
   "outputs": [
    {
     "data": {
      "text/plain": [
       "array([[0, 0, 1, 1, 1, 0, 1, 0, 0, 1, 1, 0, 1],\n",
       "       [1, 1, 0, 1, 0, 1, 0, 1, 1, 1, 0, 1, 1]])"
      ]
     },
     "execution_count": 18,
     "metadata": {},
     "output_type": "execute_result"
    }
   ],
   "source": [
    "bag_of_words.toarray()"
   ]
  },
  {
   "cell_type": "code",
   "execution_count": 19,
   "id": "1cf852b2",
   "metadata": {},
   "outputs": [],
   "source": [
    "vect = CountVectorizer().fit(text_train)"
   ]
  },
  {
   "cell_type": "code",
   "execution_count": 20,
   "id": "96406bd7",
   "metadata": {},
   "outputs": [],
   "source": [
    "X_train = vect.transform(text_train)"
   ]
  },
  {
   "cell_type": "code",
   "execution_count": 21,
   "id": "0cd598c4",
   "metadata": {},
   "outputs": [
    {
     "name": "stderr",
     "output_type": "stream",
     "text": [
      "/Users/puri/opt/anaconda3/lib/python3.9/site-packages/sklearn/utils/deprecation.py:87: FutureWarning: Function get_feature_names is deprecated; get_feature_names is deprecated in 1.0 and will be removed in 1.2. Please use get_feature_names_out instead.\n",
      "  warnings.warn(msg, category=FutureWarning)\n"
     ]
    }
   ],
   "source": [
    "feature_names = vect.get_feature_names()"
   ]
  },
  {
   "cell_type": "code",
   "execution_count": 22,
   "id": "2af6ba8f",
   "metadata": {},
   "outputs": [
    {
     "name": "stderr",
     "output_type": "stream",
     "text": [
      "/Users/puri/opt/anaconda3/lib/python3.9/site-packages/sklearn/linear_model/_logistic.py:814: ConvergenceWarning: lbfgs failed to converge (status=1):\n",
      "STOP: TOTAL NO. of ITERATIONS REACHED LIMIT.\n",
      "\n",
      "Increase the number of iterations (max_iter) or scale the data as shown in:\n",
      "    https://scikit-learn.org/stable/modules/preprocessing.html\n",
      "Please also refer to the documentation for alternative solver options:\n",
      "    https://scikit-learn.org/stable/modules/linear_model.html#logistic-regression\n",
      "  n_iter_i = _check_optimize_result(\n",
      "/Users/puri/opt/anaconda3/lib/python3.9/site-packages/sklearn/linear_model/_logistic.py:814: ConvergenceWarning: lbfgs failed to converge (status=1):\n",
      "STOP: TOTAL NO. of ITERATIONS REACHED LIMIT.\n",
      "\n",
      "Increase the number of iterations (max_iter) or scale the data as shown in:\n",
      "    https://scikit-learn.org/stable/modules/preprocessing.html\n",
      "Please also refer to the documentation for alternative solver options:\n",
      "    https://scikit-learn.org/stable/modules/linear_model.html#logistic-regression\n",
      "  n_iter_i = _check_optimize_result(\n",
      "/Users/puri/opt/anaconda3/lib/python3.9/site-packages/sklearn/linear_model/_logistic.py:814: ConvergenceWarning: lbfgs failed to converge (status=1):\n",
      "STOP: TOTAL NO. of ITERATIONS REACHED LIMIT.\n",
      "\n",
      "Increase the number of iterations (max_iter) or scale the data as shown in:\n",
      "    https://scikit-learn.org/stable/modules/preprocessing.html\n",
      "Please also refer to the documentation for alternative solver options:\n",
      "    https://scikit-learn.org/stable/modules/linear_model.html#logistic-regression\n",
      "  n_iter_i = _check_optimize_result(\n",
      "/Users/puri/opt/anaconda3/lib/python3.9/site-packages/sklearn/linear_model/_logistic.py:814: ConvergenceWarning: lbfgs failed to converge (status=1):\n",
      "STOP: TOTAL NO. of ITERATIONS REACHED LIMIT.\n",
      "\n",
      "Increase the number of iterations (max_iter) or scale the data as shown in:\n",
      "    https://scikit-learn.org/stable/modules/preprocessing.html\n",
      "Please also refer to the documentation for alternative solver options:\n",
      "    https://scikit-learn.org/stable/modules/linear_model.html#logistic-regression\n",
      "  n_iter_i = _check_optimize_result(\n",
      "/Users/puri/opt/anaconda3/lib/python3.9/site-packages/sklearn/linear_model/_logistic.py:814: ConvergenceWarning: lbfgs failed to converge (status=1):\n",
      "STOP: TOTAL NO. of ITERATIONS REACHED LIMIT.\n",
      "\n",
      "Increase the number of iterations (max_iter) or scale the data as shown in:\n",
      "    https://scikit-learn.org/stable/modules/preprocessing.html\n",
      "Please also refer to the documentation for alternative solver options:\n",
      "    https://scikit-learn.org/stable/modules/linear_model.html#logistic-regression\n",
      "  n_iter_i = _check_optimize_result(\n"
     ]
    }
   ],
   "source": [
    "from sklearn.model_selection import cross_val_score\n",
    "from sklearn.linear_model import LogisticRegression\n",
    "\n",
    "score = cross_val_score(LogisticRegression(max_iter=10), X_train, y_train, cv = 5)"
   ]
  },
  {
   "cell_type": "code",
   "execution_count": 23,
   "id": "619ef852",
   "metadata": {},
   "outputs": [
    {
     "data": {
      "text/plain": [
       "0.6647733333333333"
      ]
     },
     "execution_count": 23,
     "metadata": {},
     "output_type": "execute_result"
    }
   ],
   "source": [
    "np.mean(score)"
   ]
  },
  {
   "cell_type": "code",
   "execution_count": 24,
   "id": "fea611be",
   "metadata": {},
   "outputs": [],
   "source": [
    "from sklearn.model_selection import GridSearchCV"
   ]
  },
  {
   "cell_type": "code",
   "execution_count": 25,
   "id": "41b5c598",
   "metadata": {},
   "outputs": [],
   "source": [
    "param_grid = {\n",
    "    'C' : [0.001, 0.01, 0.1, 1, 10]\n",
    "}"
   ]
  },
  {
   "cell_type": "code",
   "execution_count": null,
   "id": "bbf62cb8",
   "metadata": {},
   "outputs": [
    {
     "name": "stderr",
     "output_type": "stream",
     "text": [
      "/Users/puri/opt/anaconda3/lib/python3.9/site-packages/sklearn/linear_model/_logistic.py:814: ConvergenceWarning: lbfgs failed to converge (status=1):\n",
      "STOP: TOTAL NO. of ITERATIONS REACHED LIMIT.\n",
      "\n",
      "Increase the number of iterations (max_iter) or scale the data as shown in:\n",
      "    https://scikit-learn.org/stable/modules/preprocessing.html\n",
      "Please also refer to the documentation for alternative solver options:\n",
      "    https://scikit-learn.org/stable/modules/linear_model.html#logistic-regression\n",
      "  n_iter_i = _check_optimize_result(\n",
      "/Users/puri/opt/anaconda3/lib/python3.9/site-packages/sklearn/linear_model/_logistic.py:814: ConvergenceWarning: lbfgs failed to converge (status=1):\n",
      "STOP: TOTAL NO. of ITERATIONS REACHED LIMIT.\n",
      "\n",
      "Increase the number of iterations (max_iter) or scale the data as shown in:\n",
      "    https://scikit-learn.org/stable/modules/preprocessing.html\n",
      "Please also refer to the documentation for alternative solver options:\n",
      "    https://scikit-learn.org/stable/modules/linear_model.html#logistic-regression\n",
      "  n_iter_i = _check_optimize_result(\n",
      "/Users/puri/opt/anaconda3/lib/python3.9/site-packages/sklearn/linear_model/_logistic.py:814: ConvergenceWarning: lbfgs failed to converge (status=1):\n",
      "STOP: TOTAL NO. of ITERATIONS REACHED LIMIT.\n",
      "\n",
      "Increase the number of iterations (max_iter) or scale the data as shown in:\n",
      "    https://scikit-learn.org/stable/modules/preprocessing.html\n",
      "Please also refer to the documentation for alternative solver options:\n",
      "    https://scikit-learn.org/stable/modules/linear_model.html#logistic-regression\n",
      "  n_iter_i = _check_optimize_result(\n",
      "/Users/puri/opt/anaconda3/lib/python3.9/site-packages/sklearn/linear_model/_logistic.py:814: ConvergenceWarning: lbfgs failed to converge (status=1):\n",
      "STOP: TOTAL NO. of ITERATIONS REACHED LIMIT.\n",
      "\n",
      "Increase the number of iterations (max_iter) or scale the data as shown in:\n",
      "    https://scikit-learn.org/stable/modules/preprocessing.html\n",
      "Please also refer to the documentation for alternative solver options:\n",
      "    https://scikit-learn.org/stable/modules/linear_model.html#logistic-regression\n",
      "  n_iter_i = _check_optimize_result(\n",
      "/Users/puri/opt/anaconda3/lib/python3.9/site-packages/sklearn/linear_model/_logistic.py:814: ConvergenceWarning: lbfgs failed to converge (status=1):\n",
      "STOP: TOTAL NO. of ITERATIONS REACHED LIMIT.\n",
      "\n",
      "Increase the number of iterations (max_iter) or scale the data as shown in:\n",
      "    https://scikit-learn.org/stable/modules/preprocessing.html\n",
      "Please also refer to the documentation for alternative solver options:\n",
      "    https://scikit-learn.org/stable/modules/linear_model.html#logistic-regression\n",
      "  n_iter_i = _check_optimize_result(\n",
      "/Users/puri/opt/anaconda3/lib/python3.9/site-packages/sklearn/linear_model/_logistic.py:814: ConvergenceWarning: lbfgs failed to converge (status=1):\n",
      "STOP: TOTAL NO. of ITERATIONS REACHED LIMIT.\n",
      "\n",
      "Increase the number of iterations (max_iter) or scale the data as shown in:\n",
      "    https://scikit-learn.org/stable/modules/preprocessing.html\n",
      "Please also refer to the documentation for alternative solver options:\n",
      "    https://scikit-learn.org/stable/modules/linear_model.html#logistic-regression\n",
      "  n_iter_i = _check_optimize_result(\n",
      "/Users/puri/opt/anaconda3/lib/python3.9/site-packages/sklearn/linear_model/_logistic.py:814: ConvergenceWarning: lbfgs failed to converge (status=1):\n",
      "STOP: TOTAL NO. of ITERATIONS REACHED LIMIT.\n",
      "\n",
      "Increase the number of iterations (max_iter) or scale the data as shown in:\n",
      "    https://scikit-learn.org/stable/modules/preprocessing.html\n",
      "Please also refer to the documentation for alternative solver options:\n",
      "    https://scikit-learn.org/stable/modules/linear_model.html#logistic-regression\n",
      "  n_iter_i = _check_optimize_result(\n",
      "/Users/puri/opt/anaconda3/lib/python3.9/site-packages/sklearn/linear_model/_logistic.py:814: ConvergenceWarning: lbfgs failed to converge (status=1):\n",
      "STOP: TOTAL NO. of ITERATIONS REACHED LIMIT.\n",
      "\n",
      "Increase the number of iterations (max_iter) or scale the data as shown in:\n",
      "    https://scikit-learn.org/stable/modules/preprocessing.html\n",
      "Please also refer to the documentation for alternative solver options:\n",
      "    https://scikit-learn.org/stable/modules/linear_model.html#logistic-regression\n",
      "  n_iter_i = _check_optimize_result(\n",
      "/Users/puri/opt/anaconda3/lib/python3.9/site-packages/sklearn/linear_model/_logistic.py:814: ConvergenceWarning: lbfgs failed to converge (status=1):\n",
      "STOP: TOTAL NO. of ITERATIONS REACHED LIMIT.\n",
      "\n",
      "Increase the number of iterations (max_iter) or scale the data as shown in:\n",
      "    https://scikit-learn.org/stable/modules/preprocessing.html\n",
      "Please also refer to the documentation for alternative solver options:\n",
      "    https://scikit-learn.org/stable/modules/linear_model.html#logistic-regression\n",
      "  n_iter_i = _check_optimize_result(\n",
      "/Users/puri/opt/anaconda3/lib/python3.9/site-packages/sklearn/linear_model/_logistic.py:814: ConvergenceWarning: lbfgs failed to converge (status=1):\n",
      "STOP: TOTAL NO. of ITERATIONS REACHED LIMIT.\n",
      "\n",
      "Increase the number of iterations (max_iter) or scale the data as shown in:\n",
      "    https://scikit-learn.org/stable/modules/preprocessing.html\n",
      "Please also refer to the documentation for alternative solver options:\n",
      "    https://scikit-learn.org/stable/modules/linear_model.html#logistic-regression\n",
      "  n_iter_i = _check_optimize_result(\n",
      "/Users/puri/opt/anaconda3/lib/python3.9/site-packages/sklearn/linear_model/_logistic.py:814: ConvergenceWarning: lbfgs failed to converge (status=1):\n",
      "STOP: TOTAL NO. of ITERATIONS REACHED LIMIT.\n",
      "\n",
      "Increase the number of iterations (max_iter) or scale the data as shown in:\n",
      "    https://scikit-learn.org/stable/modules/preprocessing.html\n",
      "Please also refer to the documentation for alternative solver options:\n",
      "    https://scikit-learn.org/stable/modules/linear_model.html#logistic-regression\n",
      "  n_iter_i = _check_optimize_result(\n",
      "/Users/puri/opt/anaconda3/lib/python3.9/site-packages/sklearn/linear_model/_logistic.py:814: ConvergenceWarning: lbfgs failed to converge (status=1):\n",
      "STOP: TOTAL NO. of ITERATIONS REACHED LIMIT.\n",
      "\n",
      "Increase the number of iterations (max_iter) or scale the data as shown in:\n",
      "    https://scikit-learn.org/stable/modules/preprocessing.html\n",
      "Please also refer to the documentation for alternative solver options:\n",
      "    https://scikit-learn.org/stable/modules/linear_model.html#logistic-regression\n",
      "  n_iter_i = _check_optimize_result(\n",
      "/Users/puri/opt/anaconda3/lib/python3.9/site-packages/sklearn/linear_model/_logistic.py:814: ConvergenceWarning: lbfgs failed to converge (status=1):\n",
      "STOP: TOTAL NO. of ITERATIONS REACHED LIMIT.\n",
      "\n",
      "Increase the number of iterations (max_iter) or scale the data as shown in:\n",
      "    https://scikit-learn.org/stable/modules/preprocessing.html\n",
      "Please also refer to the documentation for alternative solver options:\n",
      "    https://scikit-learn.org/stable/modules/linear_model.html#logistic-regression\n",
      "  n_iter_i = _check_optimize_result(\n",
      "/Users/puri/opt/anaconda3/lib/python3.9/site-packages/sklearn/linear_model/_logistic.py:814: ConvergenceWarning: lbfgs failed to converge (status=1):\n",
      "STOP: TOTAL NO. of ITERATIONS REACHED LIMIT.\n",
      "\n",
      "Increase the number of iterations (max_iter) or scale the data as shown in:\n",
      "    https://scikit-learn.org/stable/modules/preprocessing.html\n",
      "Please also refer to the documentation for alternative solver options:\n",
      "    https://scikit-learn.org/stable/modules/linear_model.html#logistic-regression\n",
      "  n_iter_i = _check_optimize_result(\n",
      "/Users/puri/opt/anaconda3/lib/python3.9/site-packages/sklearn/linear_model/_logistic.py:814: ConvergenceWarning: lbfgs failed to converge (status=1):\n",
      "STOP: TOTAL NO. of ITERATIONS REACHED LIMIT.\n",
      "\n",
      "Increase the number of iterations (max_iter) or scale the data as shown in:\n",
      "    https://scikit-learn.org/stable/modules/preprocessing.html\n",
      "Please also refer to the documentation for alternative solver options:\n",
      "    https://scikit-learn.org/stable/modules/linear_model.html#logistic-regression\n",
      "  n_iter_i = _check_optimize_result(\n",
      "/Users/puri/opt/anaconda3/lib/python3.9/site-packages/sklearn/linear_model/_logistic.py:814: ConvergenceWarning: lbfgs failed to converge (status=1):\n",
      "STOP: TOTAL NO. of ITERATIONS REACHED LIMIT.\n",
      "\n",
      "Increase the number of iterations (max_iter) or scale the data as shown in:\n",
      "    https://scikit-learn.org/stable/modules/preprocessing.html\n",
      "Please also refer to the documentation for alternative solver options:\n",
      "    https://scikit-learn.org/stable/modules/linear_model.html#logistic-regression\n",
      "  n_iter_i = _check_optimize_result(\n"
     ]
    },
    {
     "name": "stderr",
     "output_type": "stream",
     "text": [
      "/Users/puri/opt/anaconda3/lib/python3.9/site-packages/sklearn/linear_model/_logistic.py:814: ConvergenceWarning: lbfgs failed to converge (status=1):\n",
      "STOP: TOTAL NO. of ITERATIONS REACHED LIMIT.\n",
      "\n",
      "Increase the number of iterations (max_iter) or scale the data as shown in:\n",
      "    https://scikit-learn.org/stable/modules/preprocessing.html\n",
      "Please also refer to the documentation for alternative solver options:\n",
      "    https://scikit-learn.org/stable/modules/linear_model.html#logistic-regression\n",
      "  n_iter_i = _check_optimize_result(\n",
      "/Users/puri/opt/anaconda3/lib/python3.9/site-packages/sklearn/linear_model/_logistic.py:814: ConvergenceWarning: lbfgs failed to converge (status=1):\n",
      "STOP: TOTAL NO. of ITERATIONS REACHED LIMIT.\n",
      "\n",
      "Increase the number of iterations (max_iter) or scale the data as shown in:\n",
      "    https://scikit-learn.org/stable/modules/preprocessing.html\n",
      "Please also refer to the documentation for alternative solver options:\n",
      "    https://scikit-learn.org/stable/modules/linear_model.html#logistic-regression\n",
      "  n_iter_i = _check_optimize_result(\n",
      "/Users/puri/opt/anaconda3/lib/python3.9/site-packages/sklearn/linear_model/_logistic.py:814: ConvergenceWarning: lbfgs failed to converge (status=1):\n",
      "STOP: TOTAL NO. of ITERATIONS REACHED LIMIT.\n",
      "\n",
      "Increase the number of iterations (max_iter) or scale the data as shown in:\n",
      "    https://scikit-learn.org/stable/modules/preprocessing.html\n",
      "Please also refer to the documentation for alternative solver options:\n",
      "    https://scikit-learn.org/stable/modules/linear_model.html#logistic-regression\n",
      "  n_iter_i = _check_optimize_result(\n",
      "/Users/puri/opt/anaconda3/lib/python3.9/site-packages/sklearn/linear_model/_logistic.py:814: ConvergenceWarning: lbfgs failed to converge (status=1):\n",
      "STOP: TOTAL NO. of ITERATIONS REACHED LIMIT.\n",
      "\n",
      "Increase the number of iterations (max_iter) or scale the data as shown in:\n",
      "    https://scikit-learn.org/stable/modules/preprocessing.html\n",
      "Please also refer to the documentation for alternative solver options:\n",
      "    https://scikit-learn.org/stable/modules/linear_model.html#logistic-regression\n",
      "  n_iter_i = _check_optimize_result(\n",
      "/Users/puri/opt/anaconda3/lib/python3.9/site-packages/sklearn/linear_model/_logistic.py:814: ConvergenceWarning: lbfgs failed to converge (status=1):\n",
      "STOP: TOTAL NO. of ITERATIONS REACHED LIMIT.\n",
      "\n",
      "Increase the number of iterations (max_iter) or scale the data as shown in:\n",
      "    https://scikit-learn.org/stable/modules/preprocessing.html\n",
      "Please also refer to the documentation for alternative solver options:\n",
      "    https://scikit-learn.org/stable/modules/linear_model.html#logistic-regression\n",
      "  n_iter_i = _check_optimize_result(\n",
      "/Users/puri/opt/anaconda3/lib/python3.9/site-packages/sklearn/linear_model/_logistic.py:814: ConvergenceWarning: lbfgs failed to converge (status=1):\n",
      "STOP: TOTAL NO. of ITERATIONS REACHED LIMIT.\n",
      "\n",
      "Increase the number of iterations (max_iter) or scale the data as shown in:\n",
      "    https://scikit-learn.org/stable/modules/preprocessing.html\n",
      "Please also refer to the documentation for alternative solver options:\n",
      "    https://scikit-learn.org/stable/modules/linear_model.html#logistic-regression\n",
      "  n_iter_i = _check_optimize_result(\n"
     ]
    }
   ],
   "source": [
    "gs = GridSearchCV(LogisticRegression(max_iter=100), param_grid=param_grid, cv = 5)\n",
    "gs.fit(X_train, y_train)"
   ]
  },
  {
   "cell_type": "code",
   "execution_count": null,
   "id": "a5d3d0ca",
   "metadata": {},
   "outputs": [],
   "source": [
    "gs.best_score_"
   ]
  },
  {
   "cell_type": "code",
   "execution_count": null,
   "id": "706961fe",
   "metadata": {},
   "outputs": [],
   "source": [
    "vect = CountVectorizer(min_df=5).fit(text_train) # 빈도수 5개 이상만\n",
    "X_train = vect.transform(text_train)\n",
    "repr(X_train)"
   ]
  },
  {
   "cell_type": "code",
   "execution_count": null,
   "id": "dedde60d",
   "metadata": {},
   "outputs": [],
   "source": [
    "feature_names = vect.get_feature_names()"
   ]
  },
  {
   "cell_type": "code",
   "execution_count": null,
   "id": "2359e6b4",
   "metadata": {},
   "outputs": [],
   "source": [
    "grid = GridSearchCV(LogisticRegression(max_iter=100), param_grid, cv=5)"
   ]
  },
  {
   "cell_type": "code",
   "execution_count": null,
   "id": "6d5445f2",
   "metadata": {},
   "outputs": [],
   "source": [
    "grid.fit(X_train, y_train)"
   ]
  },
  {
   "cell_type": "code",
   "execution_count": null,
   "id": "ed577816",
   "metadata": {},
   "outputs": [],
   "source": [
    "grid.best_score_ # 빈도수 5개 미만은 제거 하고 했으나.. 성능이"
   ]
  },
  {
   "cell_type": "markdown",
   "id": "5b30763d",
   "metadata": {},
   "source": [
    "# 불용어 (STOP_WORD)\n",
    "- 너무 빈번하여 유용하지 않는 단어와 의미 없는 단어를 제거하는것"
   ]
  },
  {
   "cell_type": "code",
   "execution_count": null,
   "id": "1c562d8f",
   "metadata": {},
   "outputs": [],
   "source": [
    "from sklearn.feature_extraction.text import ENGLISH_STOP_WORDS"
   ]
  },
  {
   "cell_type": "code",
   "execution_count": null,
   "id": "8388a287",
   "metadata": {},
   "outputs": [],
   "source": [
    "len(ENGLISH_STOP_WORDS)\n",
    "list(ENGLISH_STOP_WORDS)[::10]"
   ]
  },
  {
   "cell_type": "code",
   "execution_count": null,
   "id": "fc81d1d1",
   "metadata": {},
   "outputs": [],
   "source": [
    "vect = CountVectorizer(min_df=5, stop_words='english')\n",
    "vect.fit(text_train)\n",
    "X_train = vect.transform(text_train)"
   ]
  },
  {
   "cell_type": "code",
   "execution_count": null,
   "id": "7e04e8a1",
   "metadata": {},
   "outputs": [],
   "source": [
    "grid = GridSearchCV(LogisticRegression(max_iter=10), param_grid, cv=5)\n",
    "grid.fit(X_train, y_train)"
   ]
  },
  {
   "cell_type": "code",
   "execution_count": null,
   "id": "9e7735ce",
   "metadata": {},
   "outputs": [],
   "source": [
    "from sklearn.feature_extraction.text import TfidfVectorizer\n",
    "from sklearn.pipeline import make_pipeline"
   ]
  },
  {
   "cell_type": "code",
   "execution_count": null,
   "id": "951df7a4",
   "metadata": {},
   "outputs": [],
   "source": [
    "tfvec = TfidfVectorizer()\n",
    "param = {\n",
    "        'logisticregression__C' : [0.001, 0.01, 0.1, 1, 10]\n",
    "}\n",
    "\n",
    "pipe = make_pipeline(tfvec, LogisticRegression(max_iter=100))"
   ]
  },
  {
   "cell_type": "code",
   "execution_count": null,
   "id": "6b284306",
   "metadata": {},
   "outputs": [],
   "source": [
    "grid = GridSearchCV(pipe, param_grid=param, cv = 5)"
   ]
  },
  {
   "cell_type": "code",
   "execution_count": null,
   "id": "79c50611",
   "metadata": {},
   "outputs": [],
   "source": [
    "grid.fit(text_train, y_train)"
   ]
  },
  {
   "cell_type": "code",
   "execution_count": null,
   "id": "fa037eca",
   "metadata": {},
   "outputs": [],
   "source": [
    "grid.best_score_"
   ]
  },
  {
   "cell_type": "code",
   "execution_count": null,
   "id": "84f6e140",
   "metadata": {},
   "outputs": [],
   "source": [
    "vectorizer = grid.best_estimator_.named_steps[\"tfidfvectorizer\"]"
   ]
  },
  {
   "cell_type": "code",
   "execution_count": null,
   "id": "f8272c28",
   "metadata": {},
   "outputs": [],
   "source": [
    "X_train = vectorizer.transform(text_train)"
   ]
  },
  {
   "cell_type": "code",
   "execution_count": null,
   "id": "1e275ae2",
   "metadata": {},
   "outputs": [],
   "source": [
    "max_value = X_train.max(axis=0).toarray().ravel()\n",
    "sorted_by_tfidf = max_value.argsort()\n",
    "feature_names = np.array(vectorizer.get_feature_names())"
   ]
  },
  {
   "cell_type": "code",
   "execution_count": null,
   "id": "36c58ff0",
   "metadata": {},
   "outputs": [],
   "source": [
    "print(feature_names[sorted_by_tfidf[:20]])\n",
    "print(feature_names[sorted_by_tfidf[-20:]])"
   ]
  },
  {
   "cell_type": "code",
   "execution_count": null,
   "id": "2bb6bd3d",
   "metadata": {},
   "outputs": [],
   "source": [
    "sorted_by_idf = np.argsort(vectorizer.idf_)"
   ]
  },
  {
   "cell_type": "code",
   "execution_count": null,
   "id": "fe2e2c6b",
   "metadata": {},
   "outputs": [],
   "source": [
    "feature_names[sorted_by_idf[:100]]"
   ]
  },
  {
   "cell_type": "code",
   "execution_count": null,
   "id": "82a11b88",
   "metadata": {},
   "outputs": [],
   "source": [
    "## 모델 계수 조사\n",
    "grid.best_estimator_.named_steps['logisticregression'].coef_[0]\n",
    "feature_names"
   ]
  },
  {
   "cell_type": "code",
   "execution_count": null,
   "id": "28f4fb0c",
   "metadata": {},
   "outputs": [],
   "source": [
    "coef_table = pd.DataFrame({'coef' : grid.best_estimator_.named_steps['logisticregression'].coef_[0], 'name' : feature_names})\n",
    "coef_table.sort_values('coef')"
   ]
  },
  {
   "cell_type": "markdown",
   "id": "1e9e623c",
   "metadata": {},
   "source": [
    "# 7.7 여러 단어로 만든 BOW(N-Gram)\n",
    "- 단어 하나가 큰 의미를 가진 경우가 많으므로 토큰의 최소 길이는 1이다"
   ]
  },
  {
   "cell_type": "code",
   "execution_count": null,
   "id": "f3bd6129",
   "metadata": {},
   "outputs": [],
   "source": [
    "cv = CountVectorizer(ngram_range=(1, 1)).fit(bards_words)\n",
    "cv.transform(bards_words).toarray()\n",
    "print(len(cv.vocabulary_))\n",
    "print(cv.get_feature_names())"
   ]
  },
  {
   "cell_type": "code",
   "execution_count": null,
   "id": "c01d7343",
   "metadata": {},
   "outputs": [],
   "source": [
    "cv = CountVectorizer(ngram_range=(2, 2)).fit(bards_words)\n",
    "cv.transform(bards_words).toarray()\n",
    "print(len(cv.vocabulary_))\n",
    "print(cv.get_feature_names())"
   ]
  },
  {
   "cell_type": "code",
   "execution_count": null,
   "id": "c935ed03",
   "metadata": {},
   "outputs": [],
   "source": [
    "cv = CountVectorizer(ngram_range=(1, 3)).fit(bards_words)\n",
    "cv.transform(bards_words).toarray()\n",
    "print(len(cv.vocabulary_))\n",
    "print(cv.get_feature_names())"
   ]
  },
  {
   "cell_type": "code",
   "execution_count": null,
   "id": "5397bd66",
   "metadata": {},
   "outputs": [],
   "source": [
    "param = {\n",
    "    'logisticregression__C' : [0.1, 1, 10],\n",
    "    'tfidfvectorizer__ngram_range' : [(1,1), (1,3)]\n",
    "}\n",
    "\n",
    "make_pipeline(TfidfVectorizer(min_df=5), LogisticRegression(max_iter=10))"
   ]
  },
  {
   "cell_type": "code",
   "execution_count": null,
   "id": "7cea747d",
   "metadata": {},
   "outputs": [],
   "source": [
    "grid = GridSearchCV(pipe, param, cv = 2)\n",
    "grid.fit(text_train, y_train)\n",
    "grid.best_params_"
   ]
  },
  {
   "cell_type": "code",
   "execution_count": null,
   "id": "fa126e31",
   "metadata": {},
   "outputs": [],
   "source": [
    "scores = grid.cv_results_['mean_test_score'].reshape(-1, 3).T\n",
    "scores"
   ]
  },
  {
   "cell_type": "code",
   "execution_count": null,
   "id": "f88c97af",
   "metadata": {},
   "outputs": [],
   "source": []
  },
  {
   "cell_type": "code",
   "execution_count": null,
   "id": "7b23fe51",
   "metadata": {},
   "outputs": [],
   "source": [
    "vect =grid.best_estimator_.named_steps['tfidfvectorizer']\n",
    "feature_names = np.array(vect.get_feature_names())\n",
    "coef = grid.best_estimator_.named_steps['logisticregression'].coef_\n",
    "mglearn.tools.visualize_coefficients(coef[0], feature_names, n_top_features=40)"
   ]
  },
  {
   "cell_type": "code",
   "execution_count": null,
   "id": "97f7955b",
   "metadata": {},
   "outputs": [],
   "source": [
    "mask = np.array([len(feature.split(\" \")) for feature in feature_names]) == 3"
   ]
  },
  {
   "cell_type": "code",
   "execution_count": null,
   "id": "92e675e2",
   "metadata": {},
   "outputs": [],
   "source": [
    "mask"
   ]
  },
  {
   "cell_type": "markdown",
   "id": "845ed6c3",
   "metadata": {},
   "source": [
    "# 고급 토큰화\n",
    "- 일반적으로 표제어 추출의 성능의 성능이 어간 추출성능 보다 높다"
   ]
  },
  {
   "cell_type": "code",
   "execution_count": null,
   "id": "f2b166a4",
   "metadata": {},
   "outputs": [],
   "source": [
    "import spacy\n",
    "import nltk"
   ]
  },
  {
   "cell_type": "code",
   "execution_count": null,
   "id": "e76d18b8",
   "metadata": {},
   "outputs": [],
   "source": [
    "en_nlp = spacy.load('en_core_web_sm')\n",
    "stemmer = nltk.stem.PorterStemmer()"
   ]
  },
  {
   "cell_type": "code",
   "execution_count": null,
   "id": "a40ce67b",
   "metadata": {},
   "outputs": [],
   "source": [
    "def compare_normalization(doc):\n",
    "    doc_spacy = en_nlp(doc)\n",
    "    print([token.lemma_ for token in doc_spacy])\n",
    "    print([stemmer.stem(token.norm_.lower()) for token in doc_spacy])bbb"
   ]
  },
  {
   "cell_type": "code",
   "execution_count": null,
   "id": "22c23bf1",
   "metadata": {},
   "outputs": [],
   "source": [
    "compare_normalization(u\"Out meeting today was worse than yesterday, \"\n",
    "                      \"I'm scared of meeting the clients tomorrow\")"
   ]
  },
  {
   "cell_type": "code",
   "execution_count": null,
   "id": "3e0f468c",
   "metadata": {},
   "outputs": [],
   "source": [
    "en_nlp = spacy.load('en_core_web_sm', disable=['parser', 'ner'])"
   ]
  },
  {
   "cell_type": "code",
   "execution_count": null,
   "id": "fc2c4919",
   "metadata": {},
   "outputs": [],
   "source": [
    "def custom_tokenizer(document):\n",
    "    doc_spacy = en_nlp(document)\n",
    "    return [token.lemma_ for token in doc_spacy]\n",
    "\n",
    "lemma_vect = CountVectorizer(tokenizer=custom_tokenizer, min_df=5)"
   ]
  },
  {
   "cell_type": "code",
   "execution_count": null,
   "id": "f171881e",
   "metadata": {},
   "outputs": [],
   "source": [
    "X_train_lemma = lemma_vect.fit_transform(text_train)\n",
    "X_train_lemma.shape"
   ]
  },
  {
   "cell_type": "code",
   "execution_count": null,
   "id": "42fa6fdd",
   "metadata": {},
   "outputs": [],
   "source": [
    "vect = CountVectorizer(min_df=5).fit(text_train)\n",
    "X_train = vect.transform(text_train)\n",
    "X_train.shape"
   ]
  },
  {
   "cell_type": "code",
   "execution_count": null,
   "id": "e9ad0105",
   "metadata": {},
   "outputs": [],
   "source": [
    "from sklearn.model_selection import StratifiedShuffleSplit"
   ]
  },
  {
   "cell_type": "code",
   "execution_count": null,
   "id": "7c9ed0f0",
   "metadata": {},
   "outputs": [],
   "source": [
    "param_grid = {'C' : [0.001, 0.01, 0.1, 1, 10]}\n",
    "cv = StratifiedShuffleSplit(n_splits=5, test_size=0.99, train_size=0.01, random_state=0)"
   ]
  },
  {
   "cell_type": "code",
   "execution_count": null,
   "id": "a1dd34b2",
   "metadata": {},
   "outputs": [],
   "source": [
    "grid = GridSearchCV(LogisticRegression(max_iter=5000), param_grid, cv=cv)"
   ]
  },
  {
   "cell_type": "code",
   "execution_count": null,
   "id": "ce5b0f72",
   "metadata": {},
   "outputs": [],
   "source": [
    "grid.fit(X_train, y_train)\n",
    "grid.best_score_"
   ]
  },
  {
   "cell_type": "code",
   "execution_count": null,
   "id": "7e328ef3",
   "metadata": {},
   "outputs": [],
   "source": [
    "grid.fit(X_train_lemma, y_train)\n",
    "grid.best_score_"
   ]
  },
  {
   "cell_type": "code",
   "execution_count": null,
   "id": "e798317d",
   "metadata": {},
   "outputs": [],
   "source": []
  },
  {
   "cell_type": "code",
   "execution_count": null,
   "id": "75a552dd",
   "metadata": {},
   "outputs": [],
   "source": [
    "# KONLPY - 여러 언어로 만들어진 형태소 분석기를 파이썬에서 손쉽게 사용할 수 있도록 도와주는 도구"
   ]
  },
  {
   "cell_type": "code",
   "execution_count": null,
   "id": "51a6cbb8",
   "metadata": {},
   "outputs": [],
   "source": [
    "from sklearn.feature_extraction.text import TfidfVectorizer, CountVectorizer"
   ]
  },
  {
   "cell_type": "code",
   "execution_count": null,
   "id": "677e405d",
   "metadata": {},
   "outputs": [],
   "source": []
  },
  {
   "cell_type": "code",
   "execution_count": null,
   "id": "fb4d8d0a",
   "metadata": {},
   "outputs": [],
   "source": [
    "import konlpy"
   ]
  },
  {
   "cell_type": "code",
   "execution_count": null,
   "id": "9876620c",
   "metadata": {},
   "outputs": [],
   "source": []
  },
  {
   "cell_type": "code",
   "execution_count": null,
   "id": "3b0d472e",
   "metadata": {},
   "outputs": [],
   "source": []
  }
 ],
 "metadata": {
  "kernelspec": {
   "display_name": "Python 3 (ipykernel)",
   "language": "python",
   "name": "python3"
  },
  "language_info": {
   "codemirror_mode": {
    "name": "ipython",
    "version": 3
   },
   "file_extension": ".py",
   "mimetype": "text/x-python",
   "name": "python",
   "nbconvert_exporter": "python",
   "pygments_lexer": "ipython3",
   "version": "3.9.13"
  }
 },
 "nbformat": 4,
 "nbformat_minor": 5
}
